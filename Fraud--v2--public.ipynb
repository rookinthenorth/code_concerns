{
 "cells": [
  {
   "cell_type": "markdown",
   "metadata": {},
   "source": [
    "# IEEE Fraud v2"
   ]
  },
  {
   "cell_type": "markdown",
   "metadata": {},
   "source": [
    "This is a starter notebook to help you with the competition submissions. Submissions are evaluated on area under the ROC curve between the predicted probability and the observed target."
   ]
  },
  {
   "cell_type": "markdown",
   "metadata": {},
   "source": [
    "## Loading libraries"
   ]
  },
  {
   "cell_type": "code",
   "execution_count": 1,
   "metadata": {
    "scrolled": true
   },
   "outputs": [
    {
     "name": "stdout",
     "output_type": "stream",
     "text": [
      "Looking in indexes: https://pypi.org/simple, https://pip.repos.neuron.amazonaws.com\n",
      "Collecting xgboost\n",
      "  Downloading xgboost-1.7.5-py3-none-manylinux2014_x86_64.whl (200.3 MB)\n",
      "\u001b[2K     \u001b[90m━━━━━━━━━━━━━━━━━━━━━━━━━━━━━━━━━━━━━━━\u001b[0m \u001b[32m200.3/200.3 MB\u001b[0m \u001b[31m3.8 MB/s\u001b[0m eta \u001b[36m0:00:00\u001b[0m00:01\u001b[0m00:01\u001b[0m\n",
      "\u001b[?25hRequirement already satisfied: numpy in /home/ec2-user/anaconda3/envs/python3/lib/python3.10/site-packages (from xgboost) (1.22.3)\n",
      "Requirement already satisfied: scipy in /home/ec2-user/anaconda3/envs/python3/lib/python3.10/site-packages (from xgboost) (1.10.0)\n",
      "Installing collected packages: xgboost\n",
      "Successfully installed xgboost-1.7.5\n"
     ]
    }
   ],
   "source": [
    "try:\n",
    "    import xgboost as xgb\n",
    "except:\n",
    "    !pip install xgboost\n",
    "    import xgboost as xgb"
   ]
  },
  {
   "cell_type": "code",
   "execution_count": 2,
   "metadata": {},
   "outputs": [
    {
     "name": "stdout",
     "output_type": "stream",
     "text": [
      "Looking in indexes: https://pypi.org/simple, https://pip.repos.neuron.amazonaws.com\n",
      "Collecting pyarrow\n",
      "  Downloading pyarrow-11.0.0-cp310-cp310-manylinux_2_17_x86_64.manylinux2014_x86_64.whl (34.9 MB)\n",
      "\u001b[2K     \u001b[90m━━━━━━━━━━━━━━━━━━━━━━━━━━━━━━━━━━━━━━━━\u001b[0m \u001b[32m34.9/34.9 MB\u001b[0m \u001b[31m14.9 MB/s\u001b[0m eta \u001b[36m0:00:00\u001b[0m00:01\u001b[0m00:01\u001b[0m\n",
      "\u001b[?25hRequirement already satisfied: numpy>=1.16.6 in /home/ec2-user/anaconda3/envs/python3/lib/python3.10/site-packages (from pyarrow) (1.22.3)\n",
      "Installing collected packages: pyarrow\n",
      "Successfully installed pyarrow-11.0.0\n"
     ]
    }
   ],
   "source": [
    "try:\n",
    "    import pyarrow\n",
    "except:\n",
    "    !pip install pyarrow\n",
    "    import pyarrow"
   ]
  },
  {
   "cell_type": "code",
   "execution_count": 3,
   "metadata": {
    "_cell_guid": "b1076dfc-b9ad-4769-8c92-a6c4dae69d19",
    "_kg_hide-input": true,
    "_uuid": "8f2839f25d086af736a60e9eeb907d3b93b6e0e5",
    "execution": {
     "iopub.execute_input": "2022-03-14T16:55:49.220333Z",
     "iopub.status.busy": "2022-03-14T16:55:49.219869Z",
     "iopub.status.idle": "2022-03-14T16:55:50.472291Z",
     "shell.execute_reply": "2022-03-14T16:55:50.471253Z",
     "shell.execute_reply.started": "2022-03-14T16:55:49.220266Z"
    }
   },
   "outputs": [
    {
     "name": "stderr",
     "output_type": "stream",
     "text": [
      "Matplotlib is building the font cache; this may take a moment.\n"
     ]
    }
   ],
   "source": [
    "import pandas as pd\n",
    "import numpy as np\n",
    "import matplotlib.pyplot as plt\n",
    "import seaborn as sns\n",
    "from sklearn.preprocessing import LabelEncoder\n",
    "from sklearn.utils import resample\n",
    "from xgboost import XGBClassifier\n",
    "from sklearn.metrics import roc_auc_score, roc_curve, auc, accuracy_score, confusion_matrix, classification_report, precision_recall_curve\n",
    "from sklearn.model_selection import train_test_split\n",
    "from sklearn.linear_model import LogisticRegression\n",
    "import time\n",
    "import matplotlib.patches as mpatches\n",
    "from sklearn.metrics import confusion_matrix\n",
    "from sklearn.ensemble import RandomForestClassifier\n",
    "import warnings\n",
    "import xgboost as xgb\n",
    "from operator import itemgetter\n",
    "import os \n",
    "import subprocess \n",
    "import smtplib\n",
    "import logging  \n",
    "\n",
    "# explicitly require this experimental feature\n",
    "# from sklearn.experimental import enable_halving_search_cv # noqa\n",
    "\n",
    "from sklearn.model_selection import GridSearchCV\n",
    "from sklearn.metrics import make_scorer, roc_auc_score\n",
    "from sklearn.model_selection import StratifiedKFold"
   ]
  },
  {
   "cell_type": "code",
   "execution_count": 208,
   "metadata": {},
   "outputs": [
    {
     "name": "stdout",
     "output_type": "stream",
     "text": [
      "1.2.0\n"
     ]
    }
   ],
   "source": [
    "import sklearn\n",
    "print(sklearn.__version__)"
   ]
  },
  {
   "cell_type": "code",
   "execution_count": 4,
   "metadata": {
    "execution": {
     "iopub.execute_input": "2022-03-14T16:55:50.474791Z",
     "iopub.status.busy": "2022-03-14T16:55:50.474312Z",
     "iopub.status.idle": "2022-03-14T16:55:50.479174Z",
     "shell.execute_reply": "2022-03-14T16:55:50.478075Z",
     "shell.execute_reply.started": "2022-03-14T16:55:50.474718Z"
    }
   },
   "outputs": [],
   "source": [
    "warnings.simplefilter(\"ignore\")"
   ]
  },
  {
   "cell_type": "markdown",
   "metadata": {},
   "source": [
    "## Begin AML Modelling"
   ]
  },
  {
   "cell_type": "code",
   "execution_count": 5,
   "metadata": {
    "_kg_hide-input": true,
    "execution": {
     "iopub.execute_input": "2022-03-14T16:55:50.481198Z",
     "iopub.status.busy": "2022-03-14T16:55:50.480646Z",
     "iopub.status.idle": "2022-03-14T16:55:50.497294Z",
     "shell.execute_reply": "2022-03-14T16:55:50.496401Z",
     "shell.execute_reply.started": "2022-03-14T16:55:50.481136Z"
    }
   },
   "outputs": [],
   "source": [
    "def reduce_mem_usage(df, verbose=True):\n",
    "    numerics = ['int16', 'int32', 'int64', 'float16', 'float32', 'float64']\n",
    "    start_mem = df.memory_usage().sum() / 1024**2    \n",
    "    for col in df.columns:\n",
    "        col_type = df[col].dtypes\n",
    "        if col_type in numerics:\n",
    "            c_min = df[col].min()\n",
    "            c_max = df[col].max()\n",
    "            if str(col_type)[:3] == 'int':\n",
    "                if c_min > np.iinfo(np.int8).min and c_max < np.iinfo(np.int8).max:\n",
    "                    df[col] = df[col].astype(np.int8)\n",
    "                elif c_min > np.iinfo(np.int16).min and c_max < np.iinfo(np.int16).max:\n",
    "                    df[col] = df[col].astype(np.int16)\n",
    "                elif c_min > np.iinfo(np.int32).min and c_max < np.iinfo(np.int32).max:\n",
    "                    df[col] = df[col].astype(np.int32)\n",
    "                elif c_min > np.iinfo(np.int64).min and c_max < np.iinfo(np.int64).max:\n",
    "                    df[col] = df[col].astype(np.int64)  \n",
    "            else:\n",
    "                if c_min > np.finfo(np.float16).min and c_max < np.finfo(np.float16).max:\n",
    "                    df[col] = df[col].astype(np.float16)\n",
    "                elif c_min > np.finfo(np.float32).min and c_max < np.finfo(np.float32).max:\n",
    "                    df[col] = df[col].astype(np.float32)\n",
    "                else:\n",
    "                    df[col] = df[col].astype(np.float64)    \n",
    "    end_mem = df.memory_usage().sum() / 1024**2\n",
    "    if verbose: print('Mem. usage decreased to {:5.2f} Mb ({:.1f}% reduction)'.format(end_mem, 100 * (start_mem - end_mem) / start_mem))\n",
    "    return df"
   ]
  },
  {
   "cell_type": "markdown",
   "metadata": {},
   "source": [
    "## Loading data"
   ]
  },
  {
   "cell_type": "markdown",
   "metadata": {},
   "source": [
    "### Load train data"
   ]
  },
  {
   "cell_type": "code",
   "execution_count": 6,
   "metadata": {},
   "outputs": [],
   "source": [
    "train_path__s3 = \"s3://pth1/raw-data/\"\n",
    "train_path__vd_local = \"C:/kaggle--ieee-fraud-detection--highly-anonymized/\"\n",
    "\n",
    "train_path = train_path__s3"
   ]
  },
  {
   "cell_type": "code",
   "execution_count": 7,
   "metadata": {},
   "outputs": [],
   "source": [
    "import os\n",
    "#os.chdir(train_path)"
   ]
  },
  {
   "cell_type": "code",
   "execution_count": 8,
   "metadata": {},
   "outputs": [],
   "source": [
    "train__txn_file_name = \"train_transaction.csv\"\n",
    "train__id_file_name= \"train_identity.csv\"\n",
    "test__txn_file_name = \"test_transaction.csv\"\n",
    "test__id_file_name= \"test_identity.csv\""
   ]
  },
  {
   "cell_type": "code",
   "execution_count": 9,
   "metadata": {},
   "outputs": [],
   "source": [
    "# Load the Training Data\n",
    "\n",
    "def get_training_data(train_path, train__txn_file_name, train__id_file_name):\n",
    "    train_transaction = pd.read_csv(train_path + train__txn_file_name, engine=\"pyarrow\")\n",
    "    train_identity = pd.read_csv(train_path + train__id_file_name, engine=\"pyarrow\")\n",
    "    print(f'training Transaction dataset has {train_transaction.shape[0]} rows and {train_transaction.shape[1]} columns.')\n",
    "    print(f'training Identity dataset has {train_identity.shape[0]} rows and {train_identity.shape[1]} columns.')\n",
    "    print(train_transaction.info())\n",
    "    print(train_identity.info())\n",
    "    return train_transaction, train_identity"
   ]
  },
  {
   "cell_type": "code",
   "execution_count": 10,
   "metadata": {},
   "outputs": [
    {
     "name": "stdout",
     "output_type": "stream",
     "text": [
      "training Transaction dataset has 590540 rows and 394 columns.\n",
      "training Identity dataset has 144233 rows and 41 columns.\n",
      "<class 'pandas.core.frame.DataFrame'>\n",
      "RangeIndex: 590540 entries, 0 to 590539\n",
      "Columns: 394 entries, TransactionID to V339\n",
      "dtypes: float64(376), int64(4), object(14)\n",
      "memory usage: 1.7+ GB\n",
      "None\n",
      "<class 'pandas.core.frame.DataFrame'>\n",
      "RangeIndex: 144233 entries, 0 to 144232\n",
      "Data columns (total 41 columns):\n",
      " #   Column         Non-Null Count   Dtype  \n",
      "---  ------         --------------   -----  \n",
      " 0   TransactionID  144233 non-null  int64  \n",
      " 1   id_01          144233 non-null  float64\n",
      " 2   id_02          140872 non-null  float64\n",
      " 3   id_03          66324 non-null   float64\n",
      " 4   id_04          66324 non-null   float64\n",
      " 5   id_05          136865 non-null  float64\n",
      " 6   id_06          136865 non-null  float64\n",
      " 7   id_07          5155 non-null    float64\n",
      " 8   id_08          5155 non-null    float64\n",
      " 9   id_09          74926 non-null   float64\n",
      " 10  id_10          74926 non-null   float64\n",
      " 11  id_11          140978 non-null  float64\n",
      " 12  id_12          144233 non-null  object \n",
      " 13  id_13          127320 non-null  float64\n",
      " 14  id_14          80044 non-null   float64\n",
      " 15  id_15          144233 non-null  object \n",
      " 16  id_16          144233 non-null  object \n",
      " 17  id_17          139369 non-null  float64\n",
      " 18  id_18          45113 non-null   float64\n",
      " 19  id_19          139318 non-null  float64\n",
      " 20  id_20          139261 non-null  float64\n",
      " 21  id_21          5159 non-null    float64\n",
      " 22  id_22          5169 non-null    float64\n",
      " 23  id_23          144233 non-null  object \n",
      " 24  id_24          4747 non-null    float64\n",
      " 25  id_25          5132 non-null    float64\n",
      " 26  id_26          5163 non-null    float64\n",
      " 27  id_27          144233 non-null  object \n",
      " 28  id_28          144233 non-null  object \n",
      " 29  id_29          144233 non-null  object \n",
      " 30  id_30          144233 non-null  object \n",
      " 31  id_31          144233 non-null  object \n",
      " 32  id_32          77586 non-null   float64\n",
      " 33  id_33          144233 non-null  object \n",
      " 34  id_34          144233 non-null  object \n",
      " 35  id_35          144233 non-null  object \n",
      " 36  id_36          144233 non-null  object \n",
      " 37  id_37          144233 non-null  object \n",
      " 38  id_38          144233 non-null  object \n",
      " 39  DeviceType     144233 non-null  object \n",
      " 40  DeviceInfo     144233 non-null  object \n",
      "dtypes: float64(23), int64(1), object(17)\n",
      "memory usage: 45.1+ MB\n",
      "None\n",
      "Train data set is loaded !\n",
      "CPU times: user 22.4 s, sys: 7.3 s, total: 29.7 s\n",
      "Wall time: 30.5 s\n"
     ]
    }
   ],
   "source": [
    "%%time\n",
    "\n",
    "train_transactions, train_identity = get_training_data(train_path, train__txn_file_name, train__id_file_name)\n",
    "print('Train data set is loaded !')"
   ]
  },
  {
   "cell_type": "code",
   "execution_count": 11,
   "metadata": {},
   "outputs": [
    {
     "data": {
      "text/plain": [
       "array([<AxesSubplot: title={'center': '0'}>,\n",
       "       <AxesSubplot: title={'center': '1'}>], dtype=object)"
      ]
     },
     "execution_count": 11,
     "metadata": {},
     "output_type": "execute_result"
    },
    {
     "data": {
      "image/png": "[encoded data removed]",
      "text/plain": [
       "<Figure size 640x480 with 2 Axes>"
      ]
     },
     "metadata": {},
     "output_type": "display_data"
    }
   ],
   "source": [
    "train_transactions.loc[train_transactions.TransactionAmt < 800].hist('TransactionAmt',  by='isFraud', bins = 1000)"
   ]
  },
  {
   "cell_type": "code",
   "execution_count": 12,
   "metadata": {
    "execution": {
     "iopub.execute_input": "2022-03-14T16:56:21.762086Z",
     "iopub.status.busy": "2022-03-14T16:56:21.761608Z",
     "iopub.status.idle": "2022-03-14T16:56:21.913745Z",
     "shell.execute_reply": "2022-03-14T16:56:21.912714Z",
     "shell.execute_reply.started": "2022-03-14T16:56:21.762023Z"
    },
    "scrolled": true
   },
   "outputs": [
    {
     "data": {
      "text/html": [
       "<div>\n",
       "<style scoped>\n",
       "    .dataframe tbody tr th:only-of-type {\n",
       "        vertical-align: middle;\n",
       "    }\n",
       "\n",
       "    .dataframe tbody tr th {\n",
       "        vertical-align: top;\n",
       "    }\n",
       "\n",
       "    .dataframe thead th {\n",
       "        text-align: right;\n",
       "    }\n",
       "</style>\n",
       "<table border=\"1\" class=\"dataframe\">\n",
       "  <thead>\n",
       "    <tr style=\"text-align: right;\">\n",
       "      <th></th>\n",
       "      <th>TransactionID</th>\n",
       "      <th>isFraud</th>\n",
       "      <th>TransactionDT</th>\n",
       "      <th>TransactionAmt</th>\n",
       "      <th>ProductCD</th>\n",
       "      <th>card1</th>\n",
       "      <th>card2</th>\n",
       "      <th>card3</th>\n",
       "      <th>card4</th>\n",
       "      <th>card5</th>\n",
       "      <th>...</th>\n",
       "      <th>V330</th>\n",
       "      <th>V331</th>\n",
       "      <th>V332</th>\n",
       "      <th>V333</th>\n",
       "      <th>V334</th>\n",
       "      <th>V335</th>\n",
       "      <th>V336</th>\n",
       "      <th>V337</th>\n",
       "      <th>V338</th>\n",
       "      <th>V339</th>\n",
       "    </tr>\n",
       "  </thead>\n",
       "  <tbody>\n",
       "    <tr>\n",
       "      <th>0</th>\n",
       "      <td>2987000</td>\n",
       "      <td>0</td>\n",
       "      <td>86400</td>\n",
       "      <td>68.5</td>\n",
       "      <td>W</td>\n",
       "      <td>13926</td>\n",
       "      <td>NaN</td>\n",
       "      <td>150.0</td>\n",
       "      <td>discover</td>\n",
       "      <td>142.0</td>\n",
       "      <td>...</td>\n",
       "      <td>NaN</td>\n",
       "      <td>NaN</td>\n",
       "      <td>NaN</td>\n",
       "      <td>NaN</td>\n",
       "      <td>NaN</td>\n",
       "      <td>NaN</td>\n",
       "      <td>NaN</td>\n",
       "      <td>NaN</td>\n",
       "      <td>NaN</td>\n",
       "      <td>NaN</td>\n",
       "    </tr>\n",
       "    <tr>\n",
       "      <th>1</th>\n",
       "      <td>2987001</td>\n",
       "      <td>0</td>\n",
       "      <td>86401</td>\n",
       "      <td>29.0</td>\n",
       "      <td>W</td>\n",
       "      <td>2755</td>\n",
       "      <td>404.0</td>\n",
       "      <td>150.0</td>\n",
       "      <td>mastercard</td>\n",
       "      <td>102.0</td>\n",
       "      <td>...</td>\n",
       "      <td>NaN</td>\n",
       "      <td>NaN</td>\n",
       "      <td>NaN</td>\n",
       "      <td>NaN</td>\n",
       "      <td>NaN</td>\n",
       "      <td>NaN</td>\n",
       "      <td>NaN</td>\n",
       "      <td>NaN</td>\n",
       "      <td>NaN</td>\n",
       "      <td>NaN</td>\n",
       "    </tr>\n",
       "    <tr>\n",
       "      <th>2</th>\n",
       "      <td>2987002</td>\n",
       "      <td>0</td>\n",
       "      <td>86469</td>\n",
       "      <td>59.0</td>\n",
       "      <td>W</td>\n",
       "      <td>4663</td>\n",
       "      <td>490.0</td>\n",
       "      <td>150.0</td>\n",
       "      <td>visa</td>\n",
       "      <td>166.0</td>\n",
       "      <td>...</td>\n",
       "      <td>NaN</td>\n",
       "      <td>NaN</td>\n",
       "      <td>NaN</td>\n",
       "      <td>NaN</td>\n",
       "      <td>NaN</td>\n",
       "      <td>NaN</td>\n",
       "      <td>NaN</td>\n",
       "      <td>NaN</td>\n",
       "      <td>NaN</td>\n",
       "      <td>NaN</td>\n",
       "    </tr>\n",
       "    <tr>\n",
       "      <th>3</th>\n",
       "      <td>2987003</td>\n",
       "      <td>0</td>\n",
       "      <td>86499</td>\n",
       "      <td>50.0</td>\n",
       "      <td>W</td>\n",
       "      <td>18132</td>\n",
       "      <td>567.0</td>\n",
       "      <td>150.0</td>\n",
       "      <td>mastercard</td>\n",
       "      <td>117.0</td>\n",
       "      <td>...</td>\n",
       "      <td>NaN</td>\n",
       "      <td>NaN</td>\n",
       "      <td>NaN</td>\n",
       "      <td>NaN</td>\n",
       "      <td>NaN</td>\n",
       "      <td>NaN</td>\n",
       "      <td>NaN</td>\n",
       "      <td>NaN</td>\n",
       "      <td>NaN</td>\n",
       "      <td>NaN</td>\n",
       "    </tr>\n",
       "    <tr>\n",
       "      <th>4</th>\n",
       "      <td>2987004</td>\n",
       "      <td>0</td>\n",
       "      <td>86506</td>\n",
       "      <td>50.0</td>\n",
       "      <td>H</td>\n",
       "      <td>4497</td>\n",
       "      <td>514.0</td>\n",
       "      <td>150.0</td>\n",
       "      <td>mastercard</td>\n",
       "      <td>102.0</td>\n",
       "      <td>...</td>\n",
       "      <td>0.0</td>\n",
       "      <td>0.0</td>\n",
       "      <td>0.0</td>\n",
       "      <td>0.0</td>\n",
       "      <td>0.0</td>\n",
       "      <td>0.0</td>\n",
       "      <td>0.0</td>\n",
       "      <td>0.0</td>\n",
       "      <td>0.0</td>\n",
       "      <td>0.0</td>\n",
       "    </tr>\n",
       "  </tbody>\n",
       "</table>\n",
       "<p>5 rows × 394 columns</p>\n",
       "</div>"
      ],
      "text/plain": [
       "   TransactionID  isFraud  TransactionDT  TransactionAmt ProductCD  card1  \\\n",
       "0        2987000        0          86400            68.5         W  13926   \n",
       "1        2987001        0          86401            29.0         W   2755   \n",
       "2        2987002        0          86469            59.0         W   4663   \n",
       "3        2987003        0          86499            50.0         W  18132   \n",
       "4        2987004        0          86506            50.0         H   4497   \n",
       "\n",
       "   card2  card3       card4  card5  ... V330  V331  V332  V333  V334 V335  \\\n",
       "0    NaN  150.0    discover  142.0  ...  NaN   NaN   NaN   NaN   NaN  NaN   \n",
       "1  404.0  150.0  mastercard  102.0  ...  NaN   NaN   NaN   NaN   NaN  NaN   \n",
       "2  490.0  150.0        visa  166.0  ...  NaN   NaN   NaN   NaN   NaN  NaN   \n",
       "3  567.0  150.0  mastercard  117.0  ...  NaN   NaN   NaN   NaN   NaN  NaN   \n",
       "4  514.0  150.0  mastercard  102.0  ...  0.0   0.0   0.0   0.0   0.0  0.0   \n",
       "\n",
       "  V336  V337  V338  V339  \n",
       "0  NaN   NaN   NaN   NaN  \n",
       "1  NaN   NaN   NaN   NaN  \n",
       "2  NaN   NaN   NaN   NaN  \n",
       "3  NaN   NaN   NaN   NaN  \n",
       "4  0.0   0.0   0.0   0.0  \n",
       "\n",
       "[5 rows x 394 columns]"
      ]
     },
     "execution_count": 12,
     "metadata": {},
     "output_type": "execute_result"
    }
   ],
   "source": [
    "train_transactions.head()"
   ]
  },
  {
   "cell_type": "code",
   "execution_count": 13,
   "metadata": {
    "execution": {
     "iopub.execute_input": "2022-03-14T16:56:21.917665Z",
     "iopub.status.busy": "2022-03-14T16:56:21.917026Z",
     "iopub.status.idle": "2022-03-14T16:56:21.940822Z",
     "shell.execute_reply": "2022-03-14T16:56:21.93979Z",
     "shell.execute_reply.started": "2022-03-14T16:56:21.917596Z"
    },
    "scrolled": true
   },
   "outputs": [
    {
     "name": "stdout",
     "output_type": "stream",
     "text": [
      "<class 'pandas.core.frame.DataFrame'>\n",
      "RangeIndex: 590540 entries, 0 to 590539\n",
      "Columns: 394 entries, TransactionID to V339\n",
      "dtypes: float64(376), int64(4), object(14)\n",
      "memory usage: 1.7+ GB\n"
     ]
    }
   ],
   "source": [
    "train_transactions.info()"
   ]
  },
  {
   "cell_type": "code",
   "execution_count": 14,
   "metadata": {
    "execution": {
     "iopub.execute_input": "2022-03-14T16:56:21.942976Z",
     "iopub.status.busy": "2022-03-14T16:56:21.94269Z",
     "iopub.status.idle": "2022-03-14T16:56:22.050542Z",
     "shell.execute_reply": "2022-03-14T16:56:22.049163Z",
     "shell.execute_reply.started": "2022-03-14T16:56:21.942932Z"
    }
   },
   "outputs": [
    {
     "data": {
      "text/html": [
       "<div>\n",
       "<style scoped>\n",
       "    .dataframe tbody tr th:only-of-type {\n",
       "        vertical-align: middle;\n",
       "    }\n",
       "\n",
       "    .dataframe tbody tr th {\n",
       "        vertical-align: top;\n",
       "    }\n",
       "\n",
       "    .dataframe thead th {\n",
       "        text-align: right;\n",
       "    }\n",
       "</style>\n",
       "<table border=\"1\" class=\"dataframe\">\n",
       "  <thead>\n",
       "    <tr style=\"text-align: right;\">\n",
       "      <th></th>\n",
       "      <th>TransactionID</th>\n",
       "      <th>id_01</th>\n",
       "      <th>id_02</th>\n",
       "      <th>id_03</th>\n",
       "      <th>id_04</th>\n",
       "      <th>id_05</th>\n",
       "      <th>id_06</th>\n",
       "      <th>id_07</th>\n",
       "      <th>id_08</th>\n",
       "      <th>id_09</th>\n",
       "      <th>...</th>\n",
       "      <th>id_31</th>\n",
       "      <th>id_32</th>\n",
       "      <th>id_33</th>\n",
       "      <th>id_34</th>\n",
       "      <th>id_35</th>\n",
       "      <th>id_36</th>\n",
       "      <th>id_37</th>\n",
       "      <th>id_38</th>\n",
       "      <th>DeviceType</th>\n",
       "      <th>DeviceInfo</th>\n",
       "    </tr>\n",
       "  </thead>\n",
       "  <tbody>\n",
       "    <tr>\n",
       "      <th>0</th>\n",
       "      <td>2987004</td>\n",
       "      <td>0.0</td>\n",
       "      <td>70787.0</td>\n",
       "      <td>NaN</td>\n",
       "      <td>NaN</td>\n",
       "      <td>NaN</td>\n",
       "      <td>NaN</td>\n",
       "      <td>NaN</td>\n",
       "      <td>NaN</td>\n",
       "      <td>NaN</td>\n",
       "      <td>...</td>\n",
       "      <td>samsung browser 6.2</td>\n",
       "      <td>32.0</td>\n",
       "      <td>2220x1080</td>\n",
       "      <td>match_status:2</td>\n",
       "      <td>T</td>\n",
       "      <td>F</td>\n",
       "      <td>T</td>\n",
       "      <td>T</td>\n",
       "      <td>mobile</td>\n",
       "      <td>SAMSUNG SM-G892A Build/NRD90M</td>\n",
       "    </tr>\n",
       "    <tr>\n",
       "      <th>1</th>\n",
       "      <td>2987008</td>\n",
       "      <td>-5.0</td>\n",
       "      <td>98945.0</td>\n",
       "      <td>NaN</td>\n",
       "      <td>NaN</td>\n",
       "      <td>0.0</td>\n",
       "      <td>-5.0</td>\n",
       "      <td>NaN</td>\n",
       "      <td>NaN</td>\n",
       "      <td>NaN</td>\n",
       "      <td>...</td>\n",
       "      <td>mobile safari 11.0</td>\n",
       "      <td>32.0</td>\n",
       "      <td>1334x750</td>\n",
       "      <td>match_status:1</td>\n",
       "      <td>T</td>\n",
       "      <td>F</td>\n",
       "      <td>F</td>\n",
       "      <td>T</td>\n",
       "      <td>mobile</td>\n",
       "      <td>iOS Device</td>\n",
       "    </tr>\n",
       "    <tr>\n",
       "      <th>2</th>\n",
       "      <td>2987010</td>\n",
       "      <td>-5.0</td>\n",
       "      <td>191631.0</td>\n",
       "      <td>0.0</td>\n",
       "      <td>0.0</td>\n",
       "      <td>0.0</td>\n",
       "      <td>0.0</td>\n",
       "      <td>NaN</td>\n",
       "      <td>NaN</td>\n",
       "      <td>0.0</td>\n",
       "      <td>...</td>\n",
       "      <td>chrome 62.0</td>\n",
       "      <td>NaN</td>\n",
       "      <td></td>\n",
       "      <td></td>\n",
       "      <td>F</td>\n",
       "      <td>F</td>\n",
       "      <td>T</td>\n",
       "      <td>T</td>\n",
       "      <td>desktop</td>\n",
       "      <td>Windows</td>\n",
       "    </tr>\n",
       "    <tr>\n",
       "      <th>3</th>\n",
       "      <td>2987011</td>\n",
       "      <td>-5.0</td>\n",
       "      <td>221832.0</td>\n",
       "      <td>NaN</td>\n",
       "      <td>NaN</td>\n",
       "      <td>0.0</td>\n",
       "      <td>-6.0</td>\n",
       "      <td>NaN</td>\n",
       "      <td>NaN</td>\n",
       "      <td>NaN</td>\n",
       "      <td>...</td>\n",
       "      <td>chrome 62.0</td>\n",
       "      <td>NaN</td>\n",
       "      <td></td>\n",
       "      <td></td>\n",
       "      <td>F</td>\n",
       "      <td>F</td>\n",
       "      <td>T</td>\n",
       "      <td>T</td>\n",
       "      <td>desktop</td>\n",
       "      <td></td>\n",
       "    </tr>\n",
       "    <tr>\n",
       "      <th>4</th>\n",
       "      <td>2987016</td>\n",
       "      <td>0.0</td>\n",
       "      <td>7460.0</td>\n",
       "      <td>0.0</td>\n",
       "      <td>0.0</td>\n",
       "      <td>1.0</td>\n",
       "      <td>0.0</td>\n",
       "      <td>NaN</td>\n",
       "      <td>NaN</td>\n",
       "      <td>0.0</td>\n",
       "      <td>...</td>\n",
       "      <td>chrome 62.0</td>\n",
       "      <td>24.0</td>\n",
       "      <td>1280x800</td>\n",
       "      <td>match_status:2</td>\n",
       "      <td>T</td>\n",
       "      <td>F</td>\n",
       "      <td>T</td>\n",
       "      <td>T</td>\n",
       "      <td>desktop</td>\n",
       "      <td>MacOS</td>\n",
       "    </tr>\n",
       "  </tbody>\n",
       "</table>\n",
       "<p>5 rows × 41 columns</p>\n",
       "</div>"
      ],
      "text/plain": [
       "   TransactionID  id_01     id_02  id_03  id_04  id_05  id_06  id_07  id_08  \\\n",
       "0        2987004    0.0   70787.0    NaN    NaN    NaN    NaN    NaN    NaN   \n",
       "1        2987008   -5.0   98945.0    NaN    NaN    0.0   -5.0    NaN    NaN   \n",
       "2        2987010   -5.0  191631.0    0.0    0.0    0.0    0.0    NaN    NaN   \n",
       "3        2987011   -5.0  221832.0    NaN    NaN    0.0   -6.0    NaN    NaN   \n",
       "4        2987016    0.0    7460.0    0.0    0.0    1.0    0.0    NaN    NaN   \n",
       "\n",
       "   id_09  ...                id_31  id_32      id_33           id_34  id_35  \\\n",
       "0    NaN  ...  samsung browser 6.2   32.0  2220x1080  match_status:2      T   \n",
       "1    NaN  ...   mobile safari 11.0   32.0   1334x750  match_status:1      T   \n",
       "2    0.0  ...          chrome 62.0    NaN                                 F   \n",
       "3    NaN  ...          chrome 62.0    NaN                                 F   \n",
       "4    0.0  ...          chrome 62.0   24.0   1280x800  match_status:2      T   \n",
       "\n",
       "  id_36 id_37  id_38  DeviceType                     DeviceInfo  \n",
       "0     F     T      T      mobile  SAMSUNG SM-G892A Build/NRD90M  \n",
       "1     F     F      T      mobile                     iOS Device  \n",
       "2     F     T      T     desktop                        Windows  \n",
       "3     F     T      T     desktop                                 \n",
       "4     F     T      T     desktop                          MacOS  \n",
       "\n",
       "[5 rows x 41 columns]"
      ]
     },
     "execution_count": 14,
     "metadata": {},
     "output_type": "execute_result"
    }
   ],
   "source": [
    "train_identity.head()"
   ]
  },
  {
   "cell_type": "code",
   "execution_count": 15,
   "metadata": {
    "execution": {
     "iopub.execute_input": "2022-03-14T16:56:22.258926Z",
     "iopub.status.busy": "2022-03-14T16:56:22.258584Z",
     "iopub.status.idle": "2022-03-14T16:56:22.507276Z",
     "shell.execute_reply": "2022-03-14T16:56:22.505685Z",
     "shell.execute_reply.started": "2022-03-14T16:56:22.258871Z"
    }
   },
   "outputs": [
    {
     "data": {
      "image/png": "[encoded data removed]",
      "text/plain": [
       "<Figure size 640x480 with 1 Axes>"
      ]
     },
     "metadata": {},
     "output_type": "display_data"
    }
   ],
   "source": [
    "sns.countplot(x=train_transactions[\"isFraud\"]);"
   ]
  },
  {
   "cell_type": "markdown",
   "metadata": {},
   "source": [
    "- There is clearly a class imbalace problem."
   ]
  },
  {
   "cell_type": "markdown",
   "metadata": {},
   "source": [
    "### Merging training data"
   ]
  },
  {
   "cell_type": "code",
   "execution_count": 16,
   "metadata": {
    "execution": {
     "iopub.execute_input": "2022-03-14T16:56:22.50992Z",
     "iopub.status.busy": "2022-03-14T16:56:22.509434Z",
     "iopub.status.idle": "2022-03-14T16:56:33.526704Z",
     "shell.execute_reply": "2022-03-14T16:56:33.525662Z",
     "shell.execute_reply.started": "2022-03-14T16:56:22.509852Z"
    }
   },
   "outputs": [
    {
     "name": "stdout",
     "output_type": "stream",
     "text": [
      "Train shape (590540, 434)\n",
      "Data set merged \n"
     ]
    }
   ],
   "source": [
    "train_df = train_transactions.merge(train_identity, how=\"left\", on=\"TransactionID\")\n",
    "\n",
    "print('Train shape',train_df.shape)\n",
    "\n",
    "print(\"Data set merged \")\n",
    "\n",
    "del train_transactions, train_identity"
   ]
  },
  {
   "cell_type": "code",
   "execution_count": 17,
   "metadata": {},
   "outputs": [
    {
     "data": {
      "text/plain": [
       "Index(['TransactionID', 'isFraud', 'TransactionDT', 'TransactionAmt',\n",
       "       'ProductCD', 'card1', 'card2', 'card3', 'card4', 'card5',\n",
       "       ...\n",
       "       'id_31', 'id_32', 'id_33', 'id_34', 'id_35', 'id_36', 'id_37', 'id_38',\n",
       "       'DeviceType', 'DeviceInfo'],\n",
       "      dtype='object', length=434)"
      ]
     },
     "execution_count": 17,
     "metadata": {},
     "output_type": "execute_result"
    }
   ],
   "source": [
    "train_df.columns"
   ]
  },
  {
   "cell_type": "code",
   "execution_count": 18,
   "metadata": {},
   "outputs": [
    {
     "data": {
      "text/plain": [
       "(590540, 434)"
      ]
     },
     "execution_count": 18,
     "metadata": {},
     "output_type": "execute_result"
    }
   ],
   "source": [
    "train_df.shape"
   ]
  },
  {
   "cell_type": "code",
   "execution_count": 19,
   "metadata": {},
   "outputs": [],
   "source": [
    "t_df = train_df[[k for k in train_df.columns if k[0]!='V']]"
   ]
  },
  {
   "cell_type": "code",
   "execution_count": 20,
   "metadata": {},
   "outputs": [
    {
     "data": {
      "text/html": [
       "<div>\n",
       "<style scoped>\n",
       "    .dataframe tbody tr th:only-of-type {\n",
       "        vertical-align: middle;\n",
       "    }\n",
       "\n",
       "    .dataframe tbody tr th {\n",
       "        vertical-align: top;\n",
       "    }\n",
       "\n",
       "    .dataframe thead th {\n",
       "        text-align: right;\n",
       "    }\n",
       "</style>\n",
       "<table border=\"1\" class=\"dataframe\">\n",
       "  <thead>\n",
       "    <tr style=\"text-align: right;\">\n",
       "      <th></th>\n",
       "      <th>TransactionID</th>\n",
       "      <th>isFraud</th>\n",
       "      <th>TransactionDT</th>\n",
       "      <th>TransactionAmt</th>\n",
       "      <th>ProductCD</th>\n",
       "      <th>card1</th>\n",
       "      <th>card2</th>\n",
       "      <th>card3</th>\n",
       "      <th>card4</th>\n",
       "      <th>card5</th>\n",
       "      <th>...</th>\n",
       "      <th>id_31</th>\n",
       "      <th>id_32</th>\n",
       "      <th>id_33</th>\n",
       "      <th>id_34</th>\n",
       "      <th>id_35</th>\n",
       "      <th>id_36</th>\n",
       "      <th>id_37</th>\n",
       "      <th>id_38</th>\n",
       "      <th>DeviceType</th>\n",
       "      <th>DeviceInfo</th>\n",
       "    </tr>\n",
       "  </thead>\n",
       "  <tbody>\n",
       "    <tr>\n",
       "      <th>0</th>\n",
       "      <td>2987000</td>\n",
       "      <td>0</td>\n",
       "      <td>86400</td>\n",
       "      <td>68.50</td>\n",
       "      <td>W</td>\n",
       "      <td>13926</td>\n",
       "      <td>NaN</td>\n",
       "      <td>150.0</td>\n",
       "      <td>discover</td>\n",
       "      <td>142.0</td>\n",
       "      <td>...</td>\n",
       "      <td>NaN</td>\n",
       "      <td>NaN</td>\n",
       "      <td>NaN</td>\n",
       "      <td>NaN</td>\n",
       "      <td>NaN</td>\n",
       "      <td>NaN</td>\n",
       "      <td>NaN</td>\n",
       "      <td>NaN</td>\n",
       "      <td>NaN</td>\n",
       "      <td>NaN</td>\n",
       "    </tr>\n",
       "    <tr>\n",
       "      <th>1</th>\n",
       "      <td>2987001</td>\n",
       "      <td>0</td>\n",
       "      <td>86401</td>\n",
       "      <td>29.00</td>\n",
       "      <td>W</td>\n",
       "      <td>2755</td>\n",
       "      <td>404.0</td>\n",
       "      <td>150.0</td>\n",
       "      <td>mastercard</td>\n",
       "      <td>102.0</td>\n",
       "      <td>...</td>\n",
       "      <td>NaN</td>\n",
       "      <td>NaN</td>\n",
       "      <td>NaN</td>\n",
       "      <td>NaN</td>\n",
       "      <td>NaN</td>\n",
       "      <td>NaN</td>\n",
       "      <td>NaN</td>\n",
       "      <td>NaN</td>\n",
       "      <td>NaN</td>\n",
       "      <td>NaN</td>\n",
       "    </tr>\n",
       "    <tr>\n",
       "      <th>2</th>\n",
       "      <td>2987002</td>\n",
       "      <td>0</td>\n",
       "      <td>86469</td>\n",
       "      <td>59.00</td>\n",
       "      <td>W</td>\n",
       "      <td>4663</td>\n",
       "      <td>490.0</td>\n",
       "      <td>150.0</td>\n",
       "      <td>visa</td>\n",
       "      <td>166.0</td>\n",
       "      <td>...</td>\n",
       "      <td>NaN</td>\n",
       "      <td>NaN</td>\n",
       "      <td>NaN</td>\n",
       "      <td>NaN</td>\n",
       "      <td>NaN</td>\n",
       "      <td>NaN</td>\n",
       "      <td>NaN</td>\n",
       "      <td>NaN</td>\n",
       "      <td>NaN</td>\n",
       "      <td>NaN</td>\n",
       "    </tr>\n",
       "    <tr>\n",
       "      <th>3</th>\n",
       "      <td>2987003</td>\n",
       "      <td>0</td>\n",
       "      <td>86499</td>\n",
       "      <td>50.00</td>\n",
       "      <td>W</td>\n",
       "      <td>18132</td>\n",
       "      <td>567.0</td>\n",
       "      <td>150.0</td>\n",
       "      <td>mastercard</td>\n",
       "      <td>117.0</td>\n",
       "      <td>...</td>\n",
       "      <td>NaN</td>\n",
       "      <td>NaN</td>\n",
       "      <td>NaN</td>\n",
       "      <td>NaN</td>\n",
       "      <td>NaN</td>\n",
       "      <td>NaN</td>\n",
       "      <td>NaN</td>\n",
       "      <td>NaN</td>\n",
       "      <td>NaN</td>\n",
       "      <td>NaN</td>\n",
       "    </tr>\n",
       "    <tr>\n",
       "      <th>4</th>\n",
       "      <td>2987004</td>\n",
       "      <td>0</td>\n",
       "      <td>86506</td>\n",
       "      <td>50.00</td>\n",
       "      <td>H</td>\n",
       "      <td>4497</td>\n",
       "      <td>514.0</td>\n",
       "      <td>150.0</td>\n",
       "      <td>mastercard</td>\n",
       "      <td>102.0</td>\n",
       "      <td>...</td>\n",
       "      <td>samsung browser 6.2</td>\n",
       "      <td>32.0</td>\n",
       "      <td>2220x1080</td>\n",
       "      <td>match_status:2</td>\n",
       "      <td>T</td>\n",
       "      <td>F</td>\n",
       "      <td>T</td>\n",
       "      <td>T</td>\n",
       "      <td>mobile</td>\n",
       "      <td>SAMSUNG SM-G892A Build/NRD90M</td>\n",
       "    </tr>\n",
       "    <tr>\n",
       "      <th>...</th>\n",
       "      <td>...</td>\n",
       "      <td>...</td>\n",
       "      <td>...</td>\n",
       "      <td>...</td>\n",
       "      <td>...</td>\n",
       "      <td>...</td>\n",
       "      <td>...</td>\n",
       "      <td>...</td>\n",
       "      <td>...</td>\n",
       "      <td>...</td>\n",
       "      <td>...</td>\n",
       "      <td>...</td>\n",
       "      <td>...</td>\n",
       "      <td>...</td>\n",
       "      <td>...</td>\n",
       "      <td>...</td>\n",
       "      <td>...</td>\n",
       "      <td>...</td>\n",
       "      <td>...</td>\n",
       "      <td>...</td>\n",
       "      <td>...</td>\n",
       "    </tr>\n",
       "    <tr>\n",
       "      <th>590535</th>\n",
       "      <td>3577535</td>\n",
       "      <td>0</td>\n",
       "      <td>15811047</td>\n",
       "      <td>49.00</td>\n",
       "      <td>W</td>\n",
       "      <td>6550</td>\n",
       "      <td>NaN</td>\n",
       "      <td>150.0</td>\n",
       "      <td>visa</td>\n",
       "      <td>226.0</td>\n",
       "      <td>...</td>\n",
       "      <td>NaN</td>\n",
       "      <td>NaN</td>\n",
       "      <td>NaN</td>\n",
       "      <td>NaN</td>\n",
       "      <td>NaN</td>\n",
       "      <td>NaN</td>\n",
       "      <td>NaN</td>\n",
       "      <td>NaN</td>\n",
       "      <td>NaN</td>\n",
       "      <td>NaN</td>\n",
       "    </tr>\n",
       "    <tr>\n",
       "      <th>590536</th>\n",
       "      <td>3577536</td>\n",
       "      <td>0</td>\n",
       "      <td>15811049</td>\n",
       "      <td>39.50</td>\n",
       "      <td>W</td>\n",
       "      <td>10444</td>\n",
       "      <td>225.0</td>\n",
       "      <td>150.0</td>\n",
       "      <td>mastercard</td>\n",
       "      <td>224.0</td>\n",
       "      <td>...</td>\n",
       "      <td>NaN</td>\n",
       "      <td>NaN</td>\n",
       "      <td>NaN</td>\n",
       "      <td>NaN</td>\n",
       "      <td>NaN</td>\n",
       "      <td>NaN</td>\n",
       "      <td>NaN</td>\n",
       "      <td>NaN</td>\n",
       "      <td>NaN</td>\n",
       "      <td>NaN</td>\n",
       "    </tr>\n",
       "    <tr>\n",
       "      <th>590537</th>\n",
       "      <td>3577537</td>\n",
       "      <td>0</td>\n",
       "      <td>15811079</td>\n",
       "      <td>30.95</td>\n",
       "      <td>W</td>\n",
       "      <td>12037</td>\n",
       "      <td>595.0</td>\n",
       "      <td>150.0</td>\n",
       "      <td>mastercard</td>\n",
       "      <td>224.0</td>\n",
       "      <td>...</td>\n",
       "      <td>NaN</td>\n",
       "      <td>NaN</td>\n",
       "      <td>NaN</td>\n",
       "      <td>NaN</td>\n",
       "      <td>NaN</td>\n",
       "      <td>NaN</td>\n",
       "      <td>NaN</td>\n",
       "      <td>NaN</td>\n",
       "      <td>NaN</td>\n",
       "      <td>NaN</td>\n",
       "    </tr>\n",
       "    <tr>\n",
       "      <th>590538</th>\n",
       "      <td>3577538</td>\n",
       "      <td>0</td>\n",
       "      <td>15811088</td>\n",
       "      <td>117.00</td>\n",
       "      <td>W</td>\n",
       "      <td>7826</td>\n",
       "      <td>481.0</td>\n",
       "      <td>150.0</td>\n",
       "      <td>mastercard</td>\n",
       "      <td>224.0</td>\n",
       "      <td>...</td>\n",
       "      <td>NaN</td>\n",
       "      <td>NaN</td>\n",
       "      <td>NaN</td>\n",
       "      <td>NaN</td>\n",
       "      <td>NaN</td>\n",
       "      <td>NaN</td>\n",
       "      <td>NaN</td>\n",
       "      <td>NaN</td>\n",
       "      <td>NaN</td>\n",
       "      <td>NaN</td>\n",
       "    </tr>\n",
       "    <tr>\n",
       "      <th>590539</th>\n",
       "      <td>3577539</td>\n",
       "      <td>0</td>\n",
       "      <td>15811131</td>\n",
       "      <td>279.95</td>\n",
       "      <td>W</td>\n",
       "      <td>15066</td>\n",
       "      <td>170.0</td>\n",
       "      <td>150.0</td>\n",
       "      <td>mastercard</td>\n",
       "      <td>102.0</td>\n",
       "      <td>...</td>\n",
       "      <td>NaN</td>\n",
       "      <td>NaN</td>\n",
       "      <td>NaN</td>\n",
       "      <td>NaN</td>\n",
       "      <td>NaN</td>\n",
       "      <td>NaN</td>\n",
       "      <td>NaN</td>\n",
       "      <td>NaN</td>\n",
       "      <td>NaN</td>\n",
       "      <td>NaN</td>\n",
       "    </tr>\n",
       "  </tbody>\n",
       "</table>\n",
       "<p>590540 rows × 95 columns</p>\n",
       "</div>"
      ],
      "text/plain": [
       "        TransactionID  isFraud  TransactionDT  TransactionAmt ProductCD  \\\n",
       "0             2987000        0          86400           68.50         W   \n",
       "1             2987001        0          86401           29.00         W   \n",
       "2             2987002        0          86469           59.00         W   \n",
       "3             2987003        0          86499           50.00         W   \n",
       "4             2987004        0          86506           50.00         H   \n",
       "...               ...      ...            ...             ...       ...   \n",
       "590535        3577535        0       15811047           49.00         W   \n",
       "590536        3577536        0       15811049           39.50         W   \n",
       "590537        3577537        0       15811079           30.95         W   \n",
       "590538        3577538        0       15811088          117.00         W   \n",
       "590539        3577539        0       15811131          279.95         W   \n",
       "\n",
       "        card1  card2  card3       card4  card5  ...                id_31  \\\n",
       "0       13926    NaN  150.0    discover  142.0  ...                  NaN   \n",
       "1        2755  404.0  150.0  mastercard  102.0  ...                  NaN   \n",
       "2        4663  490.0  150.0        visa  166.0  ...                  NaN   \n",
       "3       18132  567.0  150.0  mastercard  117.0  ...                  NaN   \n",
       "4        4497  514.0  150.0  mastercard  102.0  ...  samsung browser 6.2   \n",
       "...       ...    ...    ...         ...    ...  ...                  ...   \n",
       "590535   6550    NaN  150.0        visa  226.0  ...                  NaN   \n",
       "590536  10444  225.0  150.0  mastercard  224.0  ...                  NaN   \n",
       "590537  12037  595.0  150.0  mastercard  224.0  ...                  NaN   \n",
       "590538   7826  481.0  150.0  mastercard  224.0  ...                  NaN   \n",
       "590539  15066  170.0  150.0  mastercard  102.0  ...                  NaN   \n",
       "\n",
       "        id_32      id_33           id_34  id_35 id_36 id_37  id_38  \\\n",
       "0         NaN        NaN             NaN    NaN   NaN   NaN    NaN   \n",
       "1         NaN        NaN             NaN    NaN   NaN   NaN    NaN   \n",
       "2         NaN        NaN             NaN    NaN   NaN   NaN    NaN   \n",
       "3         NaN        NaN             NaN    NaN   NaN   NaN    NaN   \n",
       "4        32.0  2220x1080  match_status:2      T     F     T      T   \n",
       "...       ...        ...             ...    ...   ...   ...    ...   \n",
       "590535    NaN        NaN             NaN    NaN   NaN   NaN    NaN   \n",
       "590536    NaN        NaN             NaN    NaN   NaN   NaN    NaN   \n",
       "590537    NaN        NaN             NaN    NaN   NaN   NaN    NaN   \n",
       "590538    NaN        NaN             NaN    NaN   NaN   NaN    NaN   \n",
       "590539    NaN        NaN             NaN    NaN   NaN   NaN    NaN   \n",
       "\n",
       "        DeviceType                     DeviceInfo  \n",
       "0              NaN                            NaN  \n",
       "1              NaN                            NaN  \n",
       "2              NaN                            NaN  \n",
       "3              NaN                            NaN  \n",
       "4           mobile  SAMSUNG SM-G892A Build/NRD90M  \n",
       "...            ...                            ...  \n",
       "590535         NaN                            NaN  \n",
       "590536         NaN                            NaN  \n",
       "590537         NaN                            NaN  \n",
       "590538         NaN                            NaN  \n",
       "590539         NaN                            NaN  \n",
       "\n",
       "[590540 rows x 95 columns]"
      ]
     },
     "execution_count": 20,
     "metadata": {},
     "output_type": "execute_result"
    }
   ],
   "source": [
    "t_df"
   ]
  },
  {
   "cell_type": "code",
   "execution_count": 21,
   "metadata": {},
   "outputs": [
    {
     "data": {
      "text/html": [
       "<div>\n",
       "<style scoped>\n",
       "    .dataframe tbody tr th:only-of-type {\n",
       "        vertical-align: middle;\n",
       "    }\n",
       "\n",
       "    .dataframe tbody tr th {\n",
       "        vertical-align: top;\n",
       "    }\n",
       "\n",
       "    .dataframe thead th {\n",
       "        text-align: right;\n",
       "    }\n",
       "</style>\n",
       "<table border=\"1\" class=\"dataframe\">\n",
       "  <thead>\n",
       "    <tr style=\"text-align: right;\">\n",
       "      <th></th>\n",
       "      <th>TransactionID</th>\n",
       "      <th>isFraud</th>\n",
       "      <th>TransactionDT</th>\n",
       "      <th>TransactionAmt</th>\n",
       "      <th>ProductCD</th>\n",
       "      <th>card1</th>\n",
       "      <th>card2</th>\n",
       "      <th>card3</th>\n",
       "      <th>card4</th>\n",
       "      <th>card5</th>\n",
       "      <th>...</th>\n",
       "      <th>id_31</th>\n",
       "      <th>id_32</th>\n",
       "      <th>id_33</th>\n",
       "      <th>id_34</th>\n",
       "      <th>id_35</th>\n",
       "      <th>id_36</th>\n",
       "      <th>id_37</th>\n",
       "      <th>id_38</th>\n",
       "      <th>DeviceType</th>\n",
       "      <th>DeviceInfo</th>\n",
       "    </tr>\n",
       "  </thead>\n",
       "  <tbody>\n",
       "    <tr>\n",
       "      <th>0</th>\n",
       "      <td>2987000</td>\n",
       "      <td>0</td>\n",
       "      <td>86400</td>\n",
       "      <td>68.500</td>\n",
       "      <td>W</td>\n",
       "      <td>13926</td>\n",
       "      <td>NaN</td>\n",
       "      <td>150.0</td>\n",
       "      <td>discover</td>\n",
       "      <td>142.0</td>\n",
       "      <td>...</td>\n",
       "      <td>NaN</td>\n",
       "      <td>NaN</td>\n",
       "      <td>NaN</td>\n",
       "      <td>NaN</td>\n",
       "      <td>NaN</td>\n",
       "      <td>NaN</td>\n",
       "      <td>NaN</td>\n",
       "      <td>NaN</td>\n",
       "      <td>NaN</td>\n",
       "      <td>NaN</td>\n",
       "    </tr>\n",
       "    <tr>\n",
       "      <th>1</th>\n",
       "      <td>2987001</td>\n",
       "      <td>0</td>\n",
       "      <td>86401</td>\n",
       "      <td>29.000</td>\n",
       "      <td>W</td>\n",
       "      <td>2755</td>\n",
       "      <td>404.0</td>\n",
       "      <td>150.0</td>\n",
       "      <td>mastercard</td>\n",
       "      <td>102.0</td>\n",
       "      <td>...</td>\n",
       "      <td>NaN</td>\n",
       "      <td>NaN</td>\n",
       "      <td>NaN</td>\n",
       "      <td>NaN</td>\n",
       "      <td>NaN</td>\n",
       "      <td>NaN</td>\n",
       "      <td>NaN</td>\n",
       "      <td>NaN</td>\n",
       "      <td>NaN</td>\n",
       "      <td>NaN</td>\n",
       "    </tr>\n",
       "    <tr>\n",
       "      <th>2</th>\n",
       "      <td>2987002</td>\n",
       "      <td>0</td>\n",
       "      <td>86469</td>\n",
       "      <td>59.000</td>\n",
       "      <td>W</td>\n",
       "      <td>4663</td>\n",
       "      <td>490.0</td>\n",
       "      <td>150.0</td>\n",
       "      <td>visa</td>\n",
       "      <td>166.0</td>\n",
       "      <td>...</td>\n",
       "      <td>NaN</td>\n",
       "      <td>NaN</td>\n",
       "      <td>NaN</td>\n",
       "      <td>NaN</td>\n",
       "      <td>NaN</td>\n",
       "      <td>NaN</td>\n",
       "      <td>NaN</td>\n",
       "      <td>NaN</td>\n",
       "      <td>NaN</td>\n",
       "      <td>NaN</td>\n",
       "    </tr>\n",
       "    <tr>\n",
       "      <th>3</th>\n",
       "      <td>2987003</td>\n",
       "      <td>0</td>\n",
       "      <td>86499</td>\n",
       "      <td>50.000</td>\n",
       "      <td>W</td>\n",
       "      <td>18132</td>\n",
       "      <td>567.0</td>\n",
       "      <td>150.0</td>\n",
       "      <td>mastercard</td>\n",
       "      <td>117.0</td>\n",
       "      <td>...</td>\n",
       "      <td>NaN</td>\n",
       "      <td>NaN</td>\n",
       "      <td>NaN</td>\n",
       "      <td>NaN</td>\n",
       "      <td>NaN</td>\n",
       "      <td>NaN</td>\n",
       "      <td>NaN</td>\n",
       "      <td>NaN</td>\n",
       "      <td>NaN</td>\n",
       "      <td>NaN</td>\n",
       "    </tr>\n",
       "    <tr>\n",
       "      <th>4</th>\n",
       "      <td>2987004</td>\n",
       "      <td>0</td>\n",
       "      <td>86506</td>\n",
       "      <td>50.000</td>\n",
       "      <td>H</td>\n",
       "      <td>4497</td>\n",
       "      <td>514.0</td>\n",
       "      <td>150.0</td>\n",
       "      <td>mastercard</td>\n",
       "      <td>102.0</td>\n",
       "      <td>...</td>\n",
       "      <td>samsung browser 6.2</td>\n",
       "      <td>32.0</td>\n",
       "      <td>2220x1080</td>\n",
       "      <td>match_status:2</td>\n",
       "      <td>T</td>\n",
       "      <td>F</td>\n",
       "      <td>T</td>\n",
       "      <td>T</td>\n",
       "      <td>mobile</td>\n",
       "      <td>SAMSUNG SM-G892A Build/NRD90M</td>\n",
       "    </tr>\n",
       "    <tr>\n",
       "      <th>...</th>\n",
       "      <td>...</td>\n",
       "      <td>...</td>\n",
       "      <td>...</td>\n",
       "      <td>...</td>\n",
       "      <td>...</td>\n",
       "      <td>...</td>\n",
       "      <td>...</td>\n",
       "      <td>...</td>\n",
       "      <td>...</td>\n",
       "      <td>...</td>\n",
       "      <td>...</td>\n",
       "      <td>...</td>\n",
       "      <td>...</td>\n",
       "      <td>...</td>\n",
       "      <td>...</td>\n",
       "      <td>...</td>\n",
       "      <td>...</td>\n",
       "      <td>...</td>\n",
       "      <td>...</td>\n",
       "      <td>...</td>\n",
       "      <td>...</td>\n",
       "    </tr>\n",
       "    <tr>\n",
       "      <th>384526</th>\n",
       "      <td>3371526</td>\n",
       "      <td>0</td>\n",
       "      <td>9647856</td>\n",
       "      <td>91.234</td>\n",
       "      <td>C</td>\n",
       "      <td>15885</td>\n",
       "      <td>545.0</td>\n",
       "      <td>185.0</td>\n",
       "      <td>visa</td>\n",
       "      <td>138.0</td>\n",
       "      <td>...</td>\n",
       "      <td>chrome 64.0</td>\n",
       "      <td>NaN</td>\n",
       "      <td></td>\n",
       "      <td></td>\n",
       "      <td>F</td>\n",
       "      <td>F</td>\n",
       "      <td>T</td>\n",
       "      <td>F</td>\n",
       "      <td>desktop</td>\n",
       "      <td></td>\n",
       "    </tr>\n",
       "    <tr>\n",
       "      <th>384527</th>\n",
       "      <td>3371527</td>\n",
       "      <td>0</td>\n",
       "      <td>9647858</td>\n",
       "      <td>20.000</td>\n",
       "      <td>H</td>\n",
       "      <td>12995</td>\n",
       "      <td>520.0</td>\n",
       "      <td>150.0</td>\n",
       "      <td>american express</td>\n",
       "      <td>190.0</td>\n",
       "      <td>...</td>\n",
       "      <td>chrome 64.0</td>\n",
       "      <td>24.0</td>\n",
       "      <td>1920x1080</td>\n",
       "      <td>match_status:2</td>\n",
       "      <td>T</td>\n",
       "      <td>F</td>\n",
       "      <td>T</td>\n",
       "      <td>T</td>\n",
       "      <td>desktop</td>\n",
       "      <td>Windows</td>\n",
       "    </tr>\n",
       "    <tr>\n",
       "      <th>384528</th>\n",
       "      <td>3371528</td>\n",
       "      <td>1</td>\n",
       "      <td>9647891</td>\n",
       "      <td>250.000</td>\n",
       "      <td>S</td>\n",
       "      <td>9500</td>\n",
       "      <td>321.0</td>\n",
       "      <td>150.0</td>\n",
       "      <td>visa</td>\n",
       "      <td>226.0</td>\n",
       "      <td>...</td>\n",
       "      <td>chrome generic</td>\n",
       "      <td>24.0</td>\n",
       "      <td>855x480</td>\n",
       "      <td>match_status:2</td>\n",
       "      <td>T</td>\n",
       "      <td>F</td>\n",
       "      <td>T</td>\n",
       "      <td>T</td>\n",
       "      <td>mobile</td>\n",
       "      <td></td>\n",
       "    </tr>\n",
       "    <tr>\n",
       "      <th>384529</th>\n",
       "      <td>3371529</td>\n",
       "      <td>0</td>\n",
       "      <td>9647893</td>\n",
       "      <td>63.500</td>\n",
       "      <td>W</td>\n",
       "      <td>12577</td>\n",
       "      <td>268.0</td>\n",
       "      <td>150.0</td>\n",
       "      <td>visa</td>\n",
       "      <td>166.0</td>\n",
       "      <td>...</td>\n",
       "      <td>NaN</td>\n",
       "      <td>NaN</td>\n",
       "      <td>NaN</td>\n",
       "      <td>NaN</td>\n",
       "      <td>NaN</td>\n",
       "      <td>NaN</td>\n",
       "      <td>NaN</td>\n",
       "      <td>NaN</td>\n",
       "      <td>NaN</td>\n",
       "      <td>NaN</td>\n",
       "    </tr>\n",
       "    <tr>\n",
       "      <th>384530</th>\n",
       "      <td>3371530</td>\n",
       "      <td>0</td>\n",
       "      <td>9647894</td>\n",
       "      <td>53.970</td>\n",
       "      <td>W</td>\n",
       "      <td>14290</td>\n",
       "      <td>512.0</td>\n",
       "      <td>150.0</td>\n",
       "      <td>visa</td>\n",
       "      <td>226.0</td>\n",
       "      <td>...</td>\n",
       "      <td>NaN</td>\n",
       "      <td>NaN</td>\n",
       "      <td>NaN</td>\n",
       "      <td>NaN</td>\n",
       "      <td>NaN</td>\n",
       "      <td>NaN</td>\n",
       "      <td>NaN</td>\n",
       "      <td>NaN</td>\n",
       "      <td>NaN</td>\n",
       "      <td>NaN</td>\n",
       "    </tr>\n",
       "  </tbody>\n",
       "</table>\n",
       "<p>384531 rows × 95 columns</p>\n",
       "</div>"
      ],
      "text/plain": [
       "        TransactionID  isFraud  TransactionDT  TransactionAmt ProductCD  \\\n",
       "0             2987000        0          86400          68.500         W   \n",
       "1             2987001        0          86401          29.000         W   \n",
       "2             2987002        0          86469          59.000         W   \n",
       "3             2987003        0          86499          50.000         W   \n",
       "4             2987004        0          86506          50.000         H   \n",
       "...               ...      ...            ...             ...       ...   \n",
       "384526        3371526        0        9647856          91.234         C   \n",
       "384527        3371527        0        9647858          20.000         H   \n",
       "384528        3371528        1        9647891         250.000         S   \n",
       "384529        3371529        0        9647893          63.500         W   \n",
       "384530        3371530        0        9647894          53.970         W   \n",
       "\n",
       "        card1  card2  card3             card4  card5  ...  \\\n",
       "0       13926    NaN  150.0          discover  142.0  ...   \n",
       "1        2755  404.0  150.0        mastercard  102.0  ...   \n",
       "2        4663  490.0  150.0              visa  166.0  ...   \n",
       "3       18132  567.0  150.0        mastercard  117.0  ...   \n",
       "4        4497  514.0  150.0        mastercard  102.0  ...   \n",
       "...       ...    ...    ...               ...    ...  ...   \n",
       "384526  15885  545.0  185.0              visa  138.0  ...   \n",
       "384527  12995  520.0  150.0  american express  190.0  ...   \n",
       "384528   9500  321.0  150.0              visa  226.0  ...   \n",
       "384529  12577  268.0  150.0              visa  166.0  ...   \n",
       "384530  14290  512.0  150.0              visa  226.0  ...   \n",
       "\n",
       "                      id_31  id_32      id_33           id_34  id_35 id_36  \\\n",
       "0                       NaN    NaN        NaN             NaN    NaN   NaN   \n",
       "1                       NaN    NaN        NaN             NaN    NaN   NaN   \n",
       "2                       NaN    NaN        NaN             NaN    NaN   NaN   \n",
       "3                       NaN    NaN        NaN             NaN    NaN   NaN   \n",
       "4       samsung browser 6.2   32.0  2220x1080  match_status:2      T     F   \n",
       "...                     ...    ...        ...             ...    ...   ...   \n",
       "384526          chrome 64.0    NaN                                 F     F   \n",
       "384527          chrome 64.0   24.0  1920x1080  match_status:2      T     F   \n",
       "384528       chrome generic   24.0    855x480  match_status:2      T     F   \n",
       "384529                  NaN    NaN        NaN             NaN    NaN   NaN   \n",
       "384530                  NaN    NaN        NaN             NaN    NaN   NaN   \n",
       "\n",
       "       id_37  id_38  DeviceType                     DeviceInfo  \n",
       "0        NaN    NaN         NaN                            NaN  \n",
       "1        NaN    NaN         NaN                            NaN  \n",
       "2        NaN    NaN         NaN                            NaN  \n",
       "3        NaN    NaN         NaN                            NaN  \n",
       "4          T      T      mobile  SAMSUNG SM-G892A Build/NRD90M  \n",
       "...      ...    ...         ...                            ...  \n",
       "384526     T      F     desktop                                 \n",
       "384527     T      T     desktop                        Windows  \n",
       "384528     T      T      mobile                                 \n",
       "384529   NaN    NaN         NaN                            NaN  \n",
       "384530   NaN    NaN         NaN                            NaN  \n",
       "\n",
       "[384531 rows x 95 columns]"
      ]
     },
     "execution_count": 21,
     "metadata": {},
     "output_type": "execute_result"
    }
   ],
   "source": [
    "t_df[t_df['TransactionID']<3371531]"
   ]
  },
  {
   "cell_type": "code",
   "execution_count": 22,
   "metadata": {},
   "outputs": [
    {
     "data": {
      "text/plain": [
       "[3371531, 3344278, 3018290, 3013372, 3128352]"
      ]
     },
     "execution_count": 22,
     "metadata": {},
     "output_type": "execute_result"
    }
   ],
   "source": [
    "lst = [3371531]\n",
    "lst.extend(t_df[t_df['TransactionID']<3371531]['TransactionID'].sample(n=4999, random_state=1))\n",
    "lst[:5]"
   ]
  },
  {
   "cell_type": "code",
   "execution_count": 23,
   "metadata": {},
   "outputs": [],
   "source": [
    "t_df = t_df[t_df.TransactionID.isin(lst)]"
   ]
  },
  {
   "cell_type": "code",
   "execution_count": 24,
   "metadata": {},
   "outputs": [],
   "source": [
    "data_dir = \"s3://pth2/test-dms-data/aml-tm-outputs/\""
   ]
  },
  {
   "cell_type": "code",
   "execution_count": 25,
   "metadata": {},
   "outputs": [],
   "source": [
    "t_df.to_csv(data_dir + 'overall/all-data--sample-1000.csv', header=True, index=False)"
   ]
  },
  {
   "cell_type": "markdown",
   "metadata": {
    "execution": {
     "iopub.execute_input": "2022-03-06T18:45:48.865606Z",
     "iopub.status.busy": "2022-03-06T18:45:48.865302Z",
     "iopub.status.idle": "2022-03-06T18:45:48.871414Z",
     "shell.execute_reply": "2022-03-06T18:45:48.868636Z",
     "shell.execute_reply.started": "2022-03-06T18:45:48.865557Z"
    }
   },
   "source": [
    "### Reducing training memory usage"
   ]
  },
  {
   "cell_type": "code",
   "execution_count": 26,
   "metadata": {
    "execution": {
     "iopub.execute_input": "2022-03-14T16:56:33.528443Z",
     "iopub.status.busy": "2022-03-14T16:56:33.52805Z",
     "iopub.status.idle": "2022-03-14T16:59:23.888074Z",
     "shell.execute_reply": "2022-03-14T16:59:23.887183Z",
     "shell.execute_reply.started": "2022-03-14T16:56:33.528276Z"
    }
   },
   "outputs": [
    {
     "name": "stdout",
     "output_type": "stream",
     "text": [
      "Mem. usage decreased to 650.48 Mb (66.8% reduction)\n",
      "CPU times: user 51.3 s, sys: 1min 5s, total: 1min 56s\n",
      "Wall time: 1min 57s\n"
     ]
    }
   ],
   "source": [
    "%%time\n",
    "train_df = reduce_mem_usage(train_df)"
   ]
  },
  {
   "cell_type": "code",
   "execution_count": 27,
   "metadata": {
    "execution": {
     "iopub.execute_input": "2022-03-14T16:59:23.890405Z",
     "iopub.status.busy": "2022-03-14T16:59:23.889856Z",
     "iopub.status.idle": "2022-03-14T16:59:23.941694Z",
     "shell.execute_reply": "2022-03-14T16:59:23.940516Z",
     "shell.execute_reply.started": "2022-03-14T16:59:23.890352Z"
    }
   },
   "outputs": [
    {
     "data": {
      "text/plain": [
       "                   453249\n",
       "gmail.com           57147\n",
       "hotmail.com         27509\n",
       "anonymous.com       20529\n",
       "yahoo.com           11842\n",
       "                    ...  \n",
       "netzero.com            14\n",
       "frontiernet.net        14\n",
       "centurylink.net        12\n",
       "netzero.net             9\n",
       "sc.rr.com               8\n",
       "Name: R_emaildomain, Length: 61, dtype: int64"
      ]
     },
     "execution_count": 27,
     "metadata": {},
     "output_type": "execute_result"
    }
   ],
   "source": [
    "train_df['R_emaildomain'].value_counts()"
   ]
  },
  {
   "cell_type": "markdown",
   "metadata": {},
   "source": [
    "### Load test data"
   ]
  },
  {
   "cell_type": "code",
   "execution_count": 28,
   "metadata": {},
   "outputs": [],
   "source": [
    "# Load the Testing Data\n",
    "\n",
    "def get_testing_data(train_path, test__txn_file_name, test__id_file_name):\n",
    "    test_transaction = pd.read_csv(train_path + test__txn_file_name, engine=\"pyarrow\")\n",
    "    test_identity = pd.read_csv(train_path + test__id_file_name, engine=\"pyarrow\")\n",
    "    print(f'Testing Transaction dataset has {test_transaction.shape[0]} rows and {test_transaction.shape[1]} columns.')\n",
    "    print(f'Testing Identity dataset has {test_identity.shape[0]} rows and {test_identity.shape[1]} columns.')\n",
    "    print(test_transaction.info())\n",
    "    print(test_identity.info())\n",
    "    return test_transaction, test_identity"
   ]
  },
  {
   "cell_type": "code",
   "execution_count": 29,
   "metadata": {
    "execution": {
     "iopub.execute_input": "2022-03-14T16:59:23.943717Z",
     "iopub.status.busy": "2022-03-14T16:59:23.943306Z",
     "iopub.status.idle": "2022-03-14T16:59:50.806776Z",
     "shell.execute_reply": "2022-03-14T16:59:50.805722Z",
     "shell.execute_reply.started": "2022-03-14T16:59:23.943654Z"
    }
   },
   "outputs": [
    {
     "name": "stdout",
     "output_type": "stream",
     "text": [
      "Testing Transaction dataset has 506691 rows and 393 columns.\n",
      "Testing Identity dataset has 141907 rows and 41 columns.\n",
      "<class 'pandas.core.frame.DataFrame'>\n",
      "RangeIndex: 506691 entries, 0 to 506690\n",
      "Columns: 393 entries, TransactionID to V339\n",
      "dtypes: float64(376), int64(3), object(14)\n",
      "memory usage: 1.5+ GB\n",
      "None\n",
      "<class 'pandas.core.frame.DataFrame'>\n",
      "RangeIndex: 141907 entries, 0 to 141906\n",
      "Data columns (total 41 columns):\n",
      " #   Column         Non-Null Count   Dtype  \n",
      "---  ------         --------------   -----  \n",
      " 0   TransactionID  141907 non-null  int64  \n",
      " 1   id-01          141907 non-null  float64\n",
      " 2   id-02          136976 non-null  float64\n",
      " 3   id-03          66481 non-null   float64\n",
      " 4   id-04          66481 non-null   float64\n",
      " 5   id-05          134750 non-null  float64\n",
      " 6   id-06          134750 non-null  float64\n",
      " 7   id-07          5059 non-null    float64\n",
      " 8   id-08          5059 non-null    float64\n",
      " 9   id-09          74338 non-null   float64\n",
      " 10  id-10          74338 non-null   float64\n",
      " 11  id-11          136778 non-null  float64\n",
      " 12  id-12          141907 non-null  object \n",
      " 13  id-13          130286 non-null  float64\n",
      " 14  id-14          71357 non-null   float64\n",
      " 15  id-15          141907 non-null  object \n",
      " 16  id-16          141907 non-null  object \n",
      " 17  id-17          135966 non-null  float64\n",
      " 18  id-18          50875 non-null   float64\n",
      " 19  id-19          135906 non-null  float64\n",
      " 20  id-20          135633 non-null  float64\n",
      " 21  id-21          5059 non-null    float64\n",
      " 22  id-22          5062 non-null    float64\n",
      " 23  id-23          141907 non-null  object \n",
      " 24  id-24          4740 non-null    float64\n",
      " 25  id-25          5039 non-null    float64\n",
      " 26  id-26          5047 non-null    float64\n",
      " 27  id-27          141907 non-null  object \n",
      " 28  id-28          141907 non-null  object \n",
      " 29  id-29          141907 non-null  object \n",
      " 30  id-30          141907 non-null  object \n",
      " 31  id-31          141907 non-null  object \n",
      " 32  id-32          70671 non-null   float64\n",
      " 33  id-33          141907 non-null  object \n",
      " 34  id-34          141907 non-null  object \n",
      " 35  id-35          141907 non-null  object \n",
      " 36  id-36          141907 non-null  object \n",
      " 37  id-37          141907 non-null  object \n",
      " 38  id-38          141907 non-null  object \n",
      " 39  DeviceType     141907 non-null  object \n",
      " 40  DeviceInfo     141907 non-null  object \n",
      "dtypes: float64(23), int64(1), object(17)\n",
      "memory usage: 44.4+ MB\n",
      "None\n",
      "Test data set is loaded !\n",
      "CPU times: user 18.4 s, sys: 4.11 s, total: 22.5 s\n",
      "Wall time: 22.3 s\n"
     ]
    }
   ],
   "source": [
    "%%time \n",
    "     \n",
    "test_transactions, test_identity = get_testing_data(train_path, test__txn_file_name, test__id_file_name)\n",
    "print('Test data set is loaded !')"
   ]
  },
  {
   "cell_type": "markdown",
   "metadata": {},
   "source": [
    "### Merging testing data"
   ]
  },
  {
   "cell_type": "code",
   "execution_count": 30,
   "metadata": {
    "execution": {
     "iopub.execute_input": "2022-03-14T16:59:50.808857Z",
     "iopub.status.busy": "2022-03-14T16:59:50.808321Z",
     "iopub.status.idle": "2022-03-14T17:00:00.995566Z",
     "shell.execute_reply": "2022-03-14T17:00:00.994543Z",
     "shell.execute_reply.started": "2022-03-14T16:59:50.8088Z"
    }
   },
   "outputs": [
    {
     "name": "stdout",
     "output_type": "stream",
     "text": [
      "Train shape (590540, 434)\n",
      "Data set merged \n",
      "CPU times: user 872 ms, sys: 776 ms, total: 1.65 s\n",
      "Wall time: 1.72 s\n"
     ]
    }
   ],
   "source": [
    "%%time\n",
    "test_df = test_transactions.merge(test_identity, how=\"left\", on=\"TransactionID\")\n",
    "\n",
    "print('Train shape',train_df.shape)\n",
    "\n",
    "print(\"Data set merged \")\n",
    "\n",
    "del test_transactions, test_identity"
   ]
  },
  {
   "cell_type": "markdown",
   "metadata": {},
   "source": [
    "### Reducing testing memory usage"
   ]
  },
  {
   "cell_type": "code",
   "execution_count": 31,
   "metadata": {
    "execution": {
     "iopub.execute_input": "2022-03-14T17:00:00.997855Z",
     "iopub.status.busy": "2022-03-14T17:00:00.997446Z",
     "iopub.status.idle": "2022-03-14T17:02:43.625588Z",
     "shell.execute_reply": "2022-03-14T17:02:43.624686Z",
     "shell.execute_reply.started": "2022-03-14T17:00:00.997784Z"
    }
   },
   "outputs": [
    {
     "name": "stdout",
     "output_type": "stream",
     "text": [
      "Mem. usage decreased to 565.37 Mb (66.3% reduction)\n",
      "CPU times: user 32.3 s, sys: 40.5 s, total: 1min 12s\n",
      "Wall time: 1min 13s\n"
     ]
    }
   ],
   "source": [
    "%%time\n",
    "test_df = reduce_mem_usage(test_df)"
   ]
  },
  {
   "cell_type": "code",
   "execution_count": 32,
   "metadata": {
    "execution": {
     "iopub.execute_input": "2022-03-14T17:02:43.627616Z",
     "iopub.status.busy": "2022-03-14T17:02:43.627302Z",
     "iopub.status.idle": "2022-03-14T17:02:44.91666Z",
     "shell.execute_reply": "2022-03-14T17:02:44.915659Z",
     "shell.execute_reply.started": "2022-03-14T17:02:43.627564Z"
    }
   },
   "outputs": [],
   "source": [
    "# fix columns names\n",
    "test_df= test_df.rename(columns=lambda x:\"_\".join(x.split(\"-\")))\n",
    "\n",
    "# set TransactionID as index\n",
    "train_df.set_index('TransactionID', inplace=True)\n",
    "test_df.set_index('TransactionID', inplace=True)"
   ]
  },
  {
   "cell_type": "code",
   "execution_count": 33,
   "metadata": {
    "execution": {
     "iopub.execute_input": "2022-03-14T17:02:44.918425Z",
     "iopub.status.busy": "2022-03-14T17:02:44.918177Z",
     "iopub.status.idle": "2022-03-14T17:02:49.241625Z",
     "shell.execute_reply": "2022-03-14T17:02:49.240582Z",
     "shell.execute_reply.started": "2022-03-14T17:02:44.918384Z"
    }
   },
   "outputs": [],
   "source": [
    "# Save data to pickle files for faster loading\n",
    "train_df.to_pickle('train_df.pkl')\n",
    "test_df.to_pickle('test_df.pkl')"
   ]
  },
  {
   "cell_type": "code",
   "execution_count": 34,
   "metadata": {
    "execution": {
     "iopub.execute_input": "2022-03-14T17:02:49.244244Z",
     "iopub.status.busy": "2022-03-14T17:02:49.243769Z",
     "iopub.status.idle": "2022-03-14T17:02:51.998195Z",
     "shell.execute_reply": "2022-03-14T17:02:51.997043Z",
     "shell.execute_reply.started": "2022-03-14T17:02:49.244165Z"
    }
   },
   "outputs": [
    {
     "name": "stdout",
     "output_type": "stream",
     "text": [
      "CPU times: user 1.22 s, sys: 444 ms, total: 1.67 s\n",
      "Wall time: 1.75 s\n"
     ]
    }
   ],
   "source": [
    "%%time\n",
    "# load pickled data\n",
    "train_df = pd.read_pickle('train_df.pkl')\n",
    "test_df = pd.read_pickle('test_df.pkl')"
   ]
  },
  {
   "cell_type": "code",
   "execution_count": 35,
   "metadata": {},
   "outputs": [
    {
     "data": {
      "text/plain": [
       "(590540, 433)"
      ]
     },
     "execution_count": 35,
     "metadata": {},
     "output_type": "execute_result"
    }
   ],
   "source": [
    "train_df.shape"
   ]
  },
  {
   "cell_type": "code",
   "execution_count": 36,
   "metadata": {},
   "outputs": [
    {
     "data": {
      "text/plain": [
       "339"
      ]
     },
     "execution_count": 36,
     "metadata": {},
     "output_type": "execute_result"
    }
   ],
   "source": [
    "len([k for k in train_df.columns if 'V'==k[0]])"
   ]
  },
  {
   "cell_type": "code",
   "execution_count": 37,
   "metadata": {},
   "outputs": [
    {
     "name": "stdout",
     "output_type": "stream",
     "text": [
      "['isFraud', 'TransactionDT', 'TransactionAmt', 'ProductCD', 'card1', 'card2', 'card3', 'card4', 'card5', 'card6', 'addr1', 'addr2', 'dist1', 'dist2', 'P_emaildomain', 'R_emaildomain', 'C1', 'C2', 'C3', 'C4', 'C5', 'C6', 'C7', 'C8', 'C9', 'C10', 'C11', 'C12', 'C13', 'C14', 'D1', 'D2', 'D3', 'D4', 'D5', 'D6', 'D7', 'D8', 'D9', 'D10', 'D11', 'D12', 'D13', 'D14', 'D15', 'M1', 'M2', 'M3', 'M4', 'M5', 'M6', 'M7', 'M8', 'M9', 'id_01', 'id_02', 'id_03', 'id_04', 'id_05', 'id_06', 'id_07', 'id_08', 'id_09', 'id_10', 'id_11', 'id_12', 'id_13', 'id_14', 'id_15', 'id_16', 'id_17', 'id_18', 'id_19', 'id_20', 'id_21', 'id_22', 'id_23', 'id_24', 'id_25', 'id_26', 'id_27', 'id_28', 'id_29', 'id_30', 'id_31', 'id_32', 'id_33', 'id_34', 'id_35', 'id_36', 'id_37', 'id_38', 'DeviceType', 'DeviceInfo']\n"
     ]
    }
   ],
   "source": [
    "cols_to_keep = [k for k in train_df.columns if 'V'!=k[0]]\n",
    "print(cols_to_keep)"
   ]
  },
  {
   "cell_type": "code",
   "execution_count": 39,
   "metadata": {},
   "outputs": [
    {
     "data": {
      "text/plain": [
       "(590540, 433)"
      ]
     },
     "execution_count": 39,
     "metadata": {},
     "output_type": "execute_result"
    }
   ],
   "source": [
    "train_df.shape"
   ]
  },
  {
   "cell_type": "code",
   "execution_count": 40,
   "metadata": {},
   "outputs": [
    {
     "data": {
      "text/plain": [
       "Index(['isFraud', 'TransactionDT', 'TransactionAmt', 'ProductCD', 'card1',\n",
       "       'card2', 'card3', 'card4', 'card5', 'card6',\n",
       "       ...\n",
       "       'id_31', 'id_32', 'id_33', 'id_34', 'id_35', 'id_36', 'id_37', 'id_38',\n",
       "       'DeviceType', 'DeviceInfo'],\n",
       "      dtype='object', length=433)"
      ]
     },
     "execution_count": 40,
     "metadata": {},
     "output_type": "execute_result"
    }
   ],
   "source": [
    "train_df.columns"
   ]
  },
  {
   "cell_type": "code",
   "execution_count": 41,
   "metadata": {},
   "outputs": [
    {
     "data": {
      "text/plain": [
       "(590540, 93)"
      ]
     },
     "execution_count": 41,
     "metadata": {},
     "output_type": "execute_result"
    }
   ],
   "source": [
    "import copy\n",
    "train_df_2 = copy.copy(train_df)\n",
    "train_df = train_df[[k for k in cols_to_keep if k!='isFraud']]\n",
    "train_df.shape"
   ]
  },
  {
   "cell_type": "code",
   "execution_count": 42,
   "metadata": {},
   "outputs": [
    {
     "data": {
      "text/plain": [
       "Index(['TransactionDT', 'TransactionAmt', 'ProductCD', 'card1', 'card2',\n",
       "       'card3', 'card4', 'card5', 'card6', 'addr1', 'addr2', 'dist1', 'dist2',\n",
       "       'P_emaildomain', 'R_emaildomain', 'C1', 'C2', 'C3', 'C4', 'C5', 'C6',\n",
       "       'C7', 'C8', 'C9', 'C10', 'C11', 'C12', 'C13', 'C14', 'D1', 'D2', 'D3',\n",
       "       'D4', 'D5', 'D6', 'D7', 'D8', 'D9', 'D10', 'D11', 'D12', 'D13', 'D14',\n",
       "       'D15', 'M1', 'M2', 'M3', 'M4', 'M5', 'M6', 'M7', 'M8', 'M9', 'id_01',\n",
       "       'id_02', 'id_03', 'id_04', 'id_05', 'id_06', 'id_07', 'id_08', 'id_09',\n",
       "       'id_10', 'id_11', 'id_12', 'id_13', 'id_14', 'id_15', 'id_16', 'id_17',\n",
       "       'id_18', 'id_19', 'id_20', 'id_21', 'id_22', 'id_23', 'id_24', 'id_25',\n",
       "       'id_26', 'id_27', 'id_28', 'id_29', 'id_30', 'id_31', 'id_32', 'id_33',\n",
       "       'id_34', 'id_35', 'id_36', 'id_37', 'id_38', 'DeviceType',\n",
       "       'DeviceInfo'],\n",
       "      dtype='object')"
      ]
     },
     "execution_count": 42,
     "metadata": {},
     "output_type": "execute_result"
    }
   ],
   "source": [
    "train_df.columns"
   ]
  },
  {
   "cell_type": "code",
   "execution_count": 43,
   "metadata": {},
   "outputs": [
    {
     "data": {
      "text/plain": [
       "(590540,)"
      ]
     },
     "execution_count": 43,
     "metadata": {},
     "output_type": "execute_result"
    }
   ],
   "source": [
    "y_train = train_df_2['isFraud']\n",
    "y_train.shape"
   ]
  },
  {
   "cell_type": "code",
   "execution_count": 44,
   "metadata": {},
   "outputs": [
    {
     "data": {
      "text/plain": [
       "(506691, 93)"
      ]
     },
     "execution_count": 44,
     "metadata": {},
     "output_type": "execute_result"
    }
   ],
   "source": [
    "test_df_2 = copy.copy(test_df)\n",
    "test_df = test_df[[col for col in cols_to_keep if col!='isFraud']]\n",
    "test_df.shape"
   ]
  },
  {
   "cell_type": "code",
   "execution_count": 45,
   "metadata": {},
   "outputs": [
    {
     "name": "stdout",
     "output_type": "stream",
     "text": [
      "Looking in indexes: https://pypi.org/simple, https://pip.repos.neuron.amazonaws.com\n",
      "Collecting treeinterpreter\n",
      "  Downloading treeinterpreter-0.2.3-py2.py3-none-any.whl (6.0 kB)\n",
      "Installing collected packages: treeinterpreter\n",
      "Successfully installed treeinterpreter-0.2.3\n"
     ]
    }
   ],
   "source": [
    "try:\n",
    "    from treeinterpreter import treeinterpreter as ti\n",
    "except ImportError:\n",
    "    !pip install treeinterpreter\n",
    "    from treeinterpreter import treeinterpreter as ti"
   ]
  },
  {
   "cell_type": "code",
   "execution_count": 46,
   "metadata": {},
   "outputs": [],
   "source": [
    "from sklearn.tree import DecisionTreeRegressor\n",
    "from sklearn.ensemble import RandomForestRegressor"
   ]
  },
  {
   "cell_type": "code",
   "execution_count": 47,
   "metadata": {},
   "outputs": [],
   "source": [
    "rf = RandomForestRegressor()\n",
    "dt = DecisionTreeRegressor()"
   ]
  },
  {
   "cell_type": "markdown",
   "metadata": {},
   "source": [
    "### Replace missing values and use label encoder for categorical variables"
   ]
  },
  {
   "cell_type": "code",
   "execution_count": 48,
   "metadata": {
    "execution": {
     "iopub.execute_input": "2022-03-14T17:02:52.000255Z",
     "iopub.status.busy": "2022-03-14T17:02:51.999844Z",
     "iopub.status.idle": "2022-03-14T17:06:51.879693Z",
     "shell.execute_reply": "2022-03-14T17:06:51.8787Z",
     "shell.execute_reply.started": "2022-03-14T17:02:52.000193Z"
    }
   },
   "outputs": [
    {
     "name": "stdout",
     "output_type": "stream",
     "text": [
      "     card2 mean:    362.500, n_train_missing =      8,933, n_test_missing =      8,654\n",
      "     card3 mean:    153.250, n_train_missing =      1,565, n_test_missing =      3,002\n",
      "     card5 mean:    199.250, n_train_missing =      4,259, n_test_missing =      4,547\n",
      "     addr1 mean:    290.750, n_train_missing =     65,706, n_test_missing =     65,609\n",
      "     addr2 mean:     86.812, n_train_missing =     65,706, n_test_missing =     65,609\n",
      "     dist1 mean:    118.500, n_train_missing =    352,271, n_test_missing =    291,217\n",
      "     dist2 mean:    231.875, n_train_missing =    552,913, n_test_missing =    470,255\n",
      "        C1 mean:     14.094, n_train_missing =          0, n_test_missing =          3\n",
      "        C2 mean:     15.273, n_train_missing =          0, n_test_missing =          3\n",
      "        C3 mean:      0.006, n_train_missing =          0, n_test_missing =          3\n",
      "        C4 mean:      4.094, n_train_missing =          0, n_test_missing =          3\n",
      "        C5 mean:      5.570, n_train_missing =          0, n_test_missing =          3\n",
      "        C6 mean:      9.070, n_train_missing =          0, n_test_missing =          3\n",
      "        C7 mean:      2.848, n_train_missing =          0, n_test_missing =          3\n",
      "        C8 mean:      5.145, n_train_missing =          0, n_test_missing =          3\n",
      "        C9 mean:      4.480, n_train_missing =          0, n_test_missing =          3\n",
      "       C10 mean:      5.242, n_train_missing =          0, n_test_missing =          3\n",
      "       C11 mean:     10.242, n_train_missing =          0, n_test_missing =          3\n",
      "       C12 mean:      4.078, n_train_missing =          0, n_test_missing =          3\n",
      "       C13 mean:     32.531, n_train_missing =          0, n_test_missing =      4,748\n",
      "       C14 mean:      8.297, n_train_missing =          0, n_test_missing =          3\n",
      "        D1 mean:     94.375, n_train_missing =      1,269, n_test_missing =      6,031\n",
      "        D2 mean:    169.625, n_train_missing =    280,797, n_test_missing =    234,769\n",
      "        D3 mean:     28.344, n_train_missing =    262,878, n_test_missing =    203,142\n",
      "        D4 mean:    140.000, n_train_missing =    168,922, n_test_missing =     76,851\n",
      "        D5 mean:     42.344, n_train_missing =    309,841, n_test_missing =    224,375\n",
      "        D6 mean:     69.812, n_train_missing =    517,353, n_test_missing =    381,908\n",
      "        D7 mean:     41.625, n_train_missing =    551,623, n_test_missing =    446,558\n",
      "        D8 mean:    146.000, n_train_missing =    515,614, n_test_missing =    432,353\n",
      "        D9 mean:      0.561, n_train_missing =    515,614, n_test_missing =    432,353\n",
      "       D10 mean:    124.000, n_train_missing =     76,022, n_test_missing =     12,545\n",
      "       D11 mean:    146.625, n_train_missing =    279,287, n_test_missing =    176,518\n",
      "       D12 mean:     54.031, n_train_missing =    525,823, n_test_missing =    437,437\n",
      "       D13 mean:     17.906, n_train_missing =    528,588, n_test_missing =    383,307\n",
      "       D14 mean:     57.719, n_train_missing =    528,353, n_test_missing =    391,497\n",
      "       D15 mean:    163.750, n_train_missing =     89,113, n_test_missing =     12,069\n",
      "     id_01 mean:    -10.172, n_train_missing =    446,307, n_test_missing =    364,784\n",
      "     id_02 mean: 174716.594, n_train_missing =    449,668, n_test_missing =    369,715\n",
      "     id_03 mean:      0.060, n_train_missing =    524,216, n_test_missing =    440,210\n",
      "     id_04 mean:     -0.059, n_train_missing =    524,216, n_test_missing =    440,210\n",
      "     id_05 mean:      1.615, n_train_missing =    453,675, n_test_missing =    371,941\n",
      "     id_06 mean:     -6.699, n_train_missing =    453,675, n_test_missing =    371,941\n",
      "     id_07 mean:     13.289, n_train_missing =    585,385, n_test_missing =    501,632\n",
      "     id_08 mean:    -38.594, n_train_missing =    585,385, n_test_missing =    501,632\n",
      "     id_09 mean:      0.091, n_train_missing =    515,614, n_test_missing =    432,353\n",
      "     id_10 mean:     -0.301, n_train_missing =    515,614, n_test_missing =    432,353\n",
      "     id_11 mean:     99.750, n_train_missing =    449,562, n_test_missing =    369,913\n",
      "     id_13 mean:     48.062, n_train_missing =    463,220, n_test_missing =    376,405\n",
      "     id_14 mean:   -344.500, n_train_missing =    510,496, n_test_missing =    435,334\n",
      "     id_17 mean:    189.500, n_train_missing =    451,171, n_test_missing =    370,725\n",
      "     id_18 mean:     14.234, n_train_missing =    545,427, n_test_missing =    455,816\n",
      "     id_19 mean:    353.250, n_train_missing =    451,222, n_test_missing =    370,785\n",
      "     id_20 mean:    404.000, n_train_missing =    451,279, n_test_missing =    371,058\n",
      "     id_21 mean:    368.250, n_train_missing =    585,381, n_test_missing =    501,632\n",
      "     id_22 mean:     16.000, n_train_missing =    585,371, n_test_missing =    501,629\n",
      "     id_24 mean:     12.805, n_train_missing =    585,793, n_test_missing =    501,951\n",
      "     id_25 mean:    329.500, n_train_missing =    585,408, n_test_missing =    501,652\n",
      "     id_26 mean:    149.125, n_train_missing =    585,377, n_test_missing =    501,644\n",
      "     id_32 mean:     26.516, n_train_missing =    512,954, n_test_missing =    436,020\n",
      "CPU times: user 12.9 s, sys: 220 ms, total: 13.1 s\n",
      "Wall time: 13.1 s\n"
     ]
    }
   ],
   "source": [
    "%%time\n",
    "# replace numeric missing values with a mean\n",
    "for f in train_df.columns:\n",
    "    if (train_df[f].dtype!='object') and (f!='isFraud'): \n",
    "        if (train_df[f].isna().sum()>0) or (test_df[f].isna().sum()>0):\n",
    "            mean = np.mean(train_df[~(train_df[f].isna())][f].values)  # simple mean on pandas column produces NaNs\n",
    "            if mean:\n",
    "                print(f'{f: >10} mean: {mean: >10.3f}, n_train_missing = {train_df[f].isna().sum(): >10,}, n_test_missing = {test_df[f].isna().sum(): >10,}')\n",
    "                train_df[f] = np.where(train_df[f].isna(), mean, train_df[f])\n",
    "                test_df[f] = np.where(test_df[f].isna(), mean, test_df[f])"
   ]
  },
  {
   "cell_type": "code",
   "execution_count": 49,
   "metadata": {
    "execution": {
     "iopub.execute_input": "2022-03-14T17:06:55.682491Z",
     "iopub.status.busy": "2022-03-14T17:06:55.682222Z",
     "iopub.status.idle": "2022-03-14T17:06:55.748998Z",
     "shell.execute_reply": "2022-03-14T17:06:55.748053Z",
     "shell.execute_reply.started": "2022-03-14T17:06:55.682448Z"
    }
   },
   "outputs": [
    {
     "data": {
      "text/plain": [
       "W    439670\n",
       "C     68519\n",
       "R     37699\n",
       "H     33024\n",
       "S     11628\n",
       "Name: ProductCD, dtype: int64"
      ]
     },
     "execution_count": 49,
     "metadata": {},
     "output_type": "execute_result"
    }
   ],
   "source": [
    "train_df['ProductCD'].value_counts()"
   ]
  },
  {
   "cell_type": "code",
   "execution_count": 50,
   "metadata": {
    "execution": {
     "iopub.execute_input": "2022-03-14T17:06:55.751123Z",
     "iopub.status.busy": "2022-03-14T17:06:55.750775Z",
     "iopub.status.idle": "2022-03-14T17:06:55.823282Z",
     "shell.execute_reply": "2022-03-14T17:06:55.822475Z",
     "shell.execute_reply.started": "2022-03-14T17:06:55.751068Z"
    }
   },
   "outputs": [
    {
     "data": {
      "text/plain": [
       "F    73922\n",
       "T    67063\n",
       "      3248\n",
       "Name: id_38, dtype: int64"
      ]
     },
     "execution_count": 50,
     "metadata": {},
     "output_type": "execute_result"
    }
   ],
   "source": [
    "train_df['id_38'].value_counts()"
   ]
  },
  {
   "cell_type": "code",
   "execution_count": 51,
   "metadata": {
    "execution": {
     "iopub.execute_input": "2022-03-14T17:06:55.824835Z",
     "iopub.status.busy": "2022-03-14T17:06:55.82457Z",
     "iopub.status.idle": "2022-03-14T17:06:56.648895Z",
     "shell.execute_reply": "2022-03-14T17:06:56.648001Z",
     "shell.execute_reply.started": "2022-03-14T17:06:55.82479Z"
    }
   },
   "outputs": [
    {
     "name": "stdout",
     "output_type": "stream",
     "text": [
      "Categorical columns that will be label encoded: ['ProductCD', 'card4', 'R_emaildomain', 'M1', 'M2', 'M3', 'M4', 'M5', 'M6', 'M7', 'M8', 'M9']\n",
      "\n",
      "Categorical columns that will be dropped from the dataset: ['id_35', 'id_23', 'DeviceInfo', 'id_33', 'id_27', 'P_emaildomain', 'id_36', 'card6', 'id_37', 'id_38', 'id_30', 'id_12', 'id_28', 'id_16', 'DeviceType', 'id_15', 'id_29', 'id_34', 'id_31']\n"
     ]
    }
   ],
   "source": [
    "# All categorical columns\n",
    "object_cols = [col for col in train_df.columns if train_df[col].dtype == \"object\"]\n",
    "\n",
    "# Columns that can be safely label encoded\n",
    "good_label_cols = [col for col in object_cols if \n",
    "                   set(train_df[col]) == set(test_df[col])]\n",
    "        \n",
    "# Problematic columns that will be dropped from the dataset\n",
    "bad_label_cols =  list (set(object_cols) - set(good_label_cols))\n",
    "        \n",
    "print('Categorical columns that will be label encoded:', good_label_cols)\n",
    "print('\\nCategorical columns that will be dropped from the dataset:', bad_label_cols)"
   ]
  },
  {
   "cell_type": "code",
   "execution_count": 52,
   "metadata": {},
   "outputs": [
    {
     "name": "stdout",
     "output_type": "stream",
     "text": [
      "CPU times: user 4.59 s, sys: 31.7 ms, total: 4.62 s\n",
      "Wall time: 4.61 s\n"
     ]
    }
   ],
   "source": [
    "%%time\n",
    "\n",
    "# Replace remaining missing values with -999\n",
    "train_df = train_df.fillna(-999)\n",
    "test_df = test_df.fillna(-999)"
   ]
  },
  {
   "cell_type": "code",
   "execution_count": 53,
   "metadata": {
    "execution": {
     "iopub.execute_input": "2022-03-14T17:06:56.651076Z",
     "iopub.status.busy": "2022-03-14T17:06:56.650704Z",
     "iopub.status.idle": "2022-03-14T17:06:58.044827Z",
     "shell.execute_reply": "2022-03-14T17:06:58.043784Z",
     "shell.execute_reply.started": "2022-03-14T17:06:56.651001Z"
    }
   },
   "outputs": [
    {
     "data": {
      "text/plain": [
       "[('DeviceInfo', 1788),\n",
       " ('id_33', 262),\n",
       " ('id_31', 132),\n",
       " ('id_30', 77),\n",
       " ('R_emaildomain', 61),\n",
       " ('P_emaildomain', 60),\n",
       " ('id_34', 6),\n",
       " ('ProductCD', 5),\n",
       " ('card4', 5),\n",
       " ('card6', 5),\n",
       " ('id_15', 5),\n",
       " ('id_23', 5),\n",
       " ('M4', 4),\n",
       " ('id_16', 4),\n",
       " ('id_27', 4),\n",
       " ('id_28', 4),\n",
       " ('id_29', 4),\n",
       " ('id_35', 4),\n",
       " ('id_36', 4),\n",
       " ('id_37', 4),\n",
       " ('id_38', 4),\n",
       " ('DeviceType', 4),\n",
       " ('M1', 3),\n",
       " ('M2', 3),\n",
       " ('M3', 3),\n",
       " ('M5', 3),\n",
       " ('M6', 3),\n",
       " ('M7', 3),\n",
       " ('M8', 3),\n",
       " ('M9', 3),\n",
       " ('id_12', 3)]"
      ]
     },
     "execution_count": 53,
     "metadata": {},
     "output_type": "execute_result"
    }
   ],
   "source": [
    "# Get number of unique entries in each column with categorical data\n",
    "object_nunique = list(map(lambda col: train_df[col].nunique(), object_cols))\n",
    "d = dict(zip(object_cols, object_nunique))\n",
    "\n",
    "# Print number of unique entries by column, in ascending order\n",
    "sorted(d.items(), key=lambda x: -x[1])"
   ]
  },
  {
   "cell_type": "code",
   "execution_count": 54,
   "metadata": {
    "execution": {
     "iopub.execute_input": "2022-03-14T17:06:58.046474Z",
     "iopub.status.busy": "2022-03-14T17:06:58.046208Z",
     "iopub.status.idle": "2022-03-14T17:06:59.366775Z",
     "shell.execute_reply": "2022-03-14T17:06:59.366012Z",
     "shell.execute_reply.started": "2022-03-14T17:06:58.046427Z"
    }
   },
   "outputs": [],
   "source": [
    "train_df.drop(bad_label_cols, axis=1, inplace=True)\n",
    "test_df.drop(bad_label_cols, axis=1, inplace=True)"
   ]
  },
  {
   "cell_type": "code",
   "execution_count": 55,
   "metadata": {
    "execution": {
     "iopub.execute_input": "2022-03-14T17:06:59.36838Z",
     "iopub.status.busy": "2022-03-14T17:06:59.368119Z",
     "iopub.status.idle": "2022-03-14T17:07:00.486859Z",
     "shell.execute_reply": "2022-03-14T17:07:00.485849Z",
     "shell.execute_reply.started": "2022-03-14T17:06:59.368336Z"
    }
   },
   "outputs": [
    {
     "name": "stdout",
     "output_type": "stream",
     "text": [
      "Categorical columns that will be one-hot encoded: ['ProductCD', 'card4', 'M1', 'M2', 'M3', 'M4', 'M5', 'M6', 'M7', 'M8', 'M9']\n",
      "\n",
      "Categorical columns that will be label encoded: ['R_emaildomain']\n"
     ]
    }
   ],
   "source": [
    "# Columns that will be one-hot encoded\n",
    "low_cardinality_cols = [col for col in good_label_cols if train_df[col].nunique() < 10]\n",
    "\n",
    "# Columns that will be label encoded\n",
    "high_cardinality_cols = list(set(good_label_cols)-set(low_cardinality_cols))\n",
    "\n",
    "print('Categorical columns that will be one-hot encoded:', low_cardinality_cols)\n",
    "print('\\nCategorical columns that will be label encoded:', high_cardinality_cols)"
   ]
  },
  {
   "cell_type": "code",
   "execution_count": 56,
   "metadata": {
    "execution": {
     "iopub.execute_input": "2022-03-14T17:07:00.488443Z",
     "iopub.status.busy": "2022-03-14T17:07:00.488183Z",
     "iopub.status.idle": "2022-03-14T17:07:02.196115Z",
     "shell.execute_reply": "2022-03-14T17:07:02.193909Z",
     "shell.execute_reply.started": "2022-03-14T17:07:00.488398Z"
    }
   },
   "outputs": [
    {
     "name": "stdout",
     "output_type": "stream",
     "text": [
      "R_emaildomain: ['' 'aim.com' 'anonymous.com' 'aol.com' 'att.net' 'bellsouth.net'\n",
      " 'cableone.net' 'centurylink.net' 'cfl.rr.com' 'charter.net' 'comcast.net'\n",
      " 'cox.net' 'earthlink.net' 'embarqmail.com' 'frontier.com'\n",
      " 'frontiernet.net' 'gmail' 'gmail.com' 'gmx.de' 'hotmail.co.uk'\n",
      " 'hotmail.com' 'hotmail.de' 'hotmail.es' 'hotmail.fr' 'icloud.com'\n",
      " 'juno.com' 'live.com' 'live.com.mx' 'live.fr' 'mac.com' 'mail.com'\n",
      " 'me.com' 'msn.com' 'netzero.com' 'netzero.net' 'optonline.net'\n",
      " 'outlook.com' 'outlook.es' 'prodigy.net.mx' 'protonmail.com' 'ptd.net'\n",
      " 'q.com' 'roadrunner.com' 'rocketmail.com' 'sbcglobal.net' 'sc.rr.com'\n",
      " 'scranton.edu' 'servicios-ta.com' 'suddenlink.net' 'twc.com'\n",
      " 'verizon.net' 'web.de' 'windstream.net' 'yahoo.co.jp' 'yahoo.co.uk'\n",
      " 'yahoo.com' 'yahoo.com.mx' 'yahoo.de' 'yahoo.es' 'yahoo.fr' 'ymail.com']\n",
      "CPU times: user 821 ms, sys: 3.82 ms, total: 825 ms\n",
      "Wall time: 821 ms\n"
     ]
    }
   ],
   "source": [
    "%%time\n",
    "\n",
    "# Label Encoding for categorical features\n",
    "for f in high_cardinality_cols: \n",
    "    lbl_enc = LabelEncoder()\n",
    "    lbl_enc.fit(list(train_df[f].values))\n",
    "    print(f'{f}: {lbl_enc.classes_}')\n",
    "    train_df[f] = lbl_enc.transform(list(train_df[f].values))\n",
    "    test_df[f] = lbl_enc.transform(list(test_df[f].values))"
   ]
  },
  {
   "cell_type": "code",
   "execution_count": 57,
   "metadata": {
    "execution": {
     "iopub.execute_input": "2022-03-14T17:07:02.198254Z",
     "iopub.status.busy": "2022-03-14T17:07:02.197802Z",
     "iopub.status.idle": "2022-03-14T17:07:02.337669Z",
     "shell.execute_reply": "2022-03-14T17:07:02.336865Z",
     "shell.execute_reply.started": "2022-03-14T17:07:02.198121Z"
    }
   },
   "outputs": [
    {
     "data": {
      "text/html": [
       "<div>\n",
       "<style scoped>\n",
       "    .dataframe tbody tr th:only-of-type {\n",
       "        vertical-align: middle;\n",
       "    }\n",
       "\n",
       "    .dataframe tbody tr th {\n",
       "        vertical-align: top;\n",
       "    }\n",
       "\n",
       "    .dataframe thead th {\n",
       "        text-align: right;\n",
       "    }\n",
       "</style>\n",
       "<table border=\"1\" class=\"dataframe\">\n",
       "  <thead>\n",
       "    <tr style=\"text-align: right;\">\n",
       "      <th></th>\n",
       "      <th>ProductCD</th>\n",
       "      <th>card4</th>\n",
       "      <th>M1</th>\n",
       "      <th>M2</th>\n",
       "      <th>M3</th>\n",
       "      <th>M4</th>\n",
       "      <th>M5</th>\n",
       "      <th>M6</th>\n",
       "      <th>M7</th>\n",
       "      <th>M8</th>\n",
       "      <th>M9</th>\n",
       "    </tr>\n",
       "    <tr>\n",
       "      <th>TransactionID</th>\n",
       "      <th></th>\n",
       "      <th></th>\n",
       "      <th></th>\n",
       "      <th></th>\n",
       "      <th></th>\n",
       "      <th></th>\n",
       "      <th></th>\n",
       "      <th></th>\n",
       "      <th></th>\n",
       "      <th></th>\n",
       "      <th></th>\n",
       "    </tr>\n",
       "  </thead>\n",
       "  <tbody>\n",
       "    <tr>\n",
       "      <th>2987000</th>\n",
       "      <td>W</td>\n",
       "      <td>discover</td>\n",
       "      <td>T</td>\n",
       "      <td>T</td>\n",
       "      <td>T</td>\n",
       "      <td>M2</td>\n",
       "      <td>F</td>\n",
       "      <td>T</td>\n",
       "      <td></td>\n",
       "      <td></td>\n",
       "      <td></td>\n",
       "    </tr>\n",
       "    <tr>\n",
       "      <th>2987001</th>\n",
       "      <td>W</td>\n",
       "      <td>mastercard</td>\n",
       "      <td></td>\n",
       "      <td></td>\n",
       "      <td></td>\n",
       "      <td>M0</td>\n",
       "      <td>T</td>\n",
       "      <td>T</td>\n",
       "      <td></td>\n",
       "      <td></td>\n",
       "      <td></td>\n",
       "    </tr>\n",
       "    <tr>\n",
       "      <th>2987002</th>\n",
       "      <td>W</td>\n",
       "      <td>visa</td>\n",
       "      <td>T</td>\n",
       "      <td>T</td>\n",
       "      <td>T</td>\n",
       "      <td>M0</td>\n",
       "      <td>F</td>\n",
       "      <td>F</td>\n",
       "      <td>F</td>\n",
       "      <td>F</td>\n",
       "      <td>F</td>\n",
       "    </tr>\n",
       "    <tr>\n",
       "      <th>2987003</th>\n",
       "      <td>W</td>\n",
       "      <td>mastercard</td>\n",
       "      <td></td>\n",
       "      <td></td>\n",
       "      <td></td>\n",
       "      <td>M0</td>\n",
       "      <td>T</td>\n",
       "      <td>F</td>\n",
       "      <td></td>\n",
       "      <td></td>\n",
       "      <td></td>\n",
       "    </tr>\n",
       "    <tr>\n",
       "      <th>2987004</th>\n",
       "      <td>H</td>\n",
       "      <td>mastercard</td>\n",
       "      <td></td>\n",
       "      <td></td>\n",
       "      <td></td>\n",
       "      <td></td>\n",
       "      <td></td>\n",
       "      <td></td>\n",
       "      <td></td>\n",
       "      <td></td>\n",
       "      <td></td>\n",
       "    </tr>\n",
       "  </tbody>\n",
       "</table>\n",
       "</div>"
      ],
      "text/plain": [
       "              ProductCD       card4 M1 M2 M3  M4 M5 M6 M7 M8 M9\n",
       "TransactionID                                                  \n",
       "2987000               W    discover  T  T  T  M2  F  T         \n",
       "2987001               W  mastercard           M0  T  T         \n",
       "2987002               W        visa  T  T  T  M0  F  F  F  F  F\n",
       "2987003               W  mastercard           M0  T  F         \n",
       "2987004               H  mastercard                            "
      ]
     },
     "execution_count": 57,
     "metadata": {},
     "output_type": "execute_result"
    }
   ],
   "source": [
    "train_df[low_cardinality_cols].head()"
   ]
  },
  {
   "cell_type": "code",
   "execution_count": 58,
   "metadata": {
    "execution": {
     "iopub.execute_input": "2022-03-14T17:07:02.339228Z",
     "iopub.status.busy": "2022-03-14T17:07:02.338825Z",
     "iopub.status.idle": "2022-03-14T17:07:17.644876Z",
     "shell.execute_reply": "2022-03-14T17:07:17.644154Z",
     "shell.execute_reply.started": "2022-03-14T17:07:02.339187Z"
    }
   },
   "outputs": [],
   "source": [
    "from sklearn.preprocessing import OneHotEncoder\n",
    "\n",
    "OH_encoder = OneHotEncoder(drop='first', sparse=False)\n",
    "OH_cols_train = pd.DataFrame(OH_encoder.fit_transform(train_df[low_cardinality_cols].astype('str')))\n",
    "OH_cols_valid = pd.DataFrame(OH_encoder.transform(test_df[low_cardinality_cols].astype('str')))\n",
    "\n",
    "# One-hot encoding removed index; put it back\n",
    "OH_cols_train.index = train_df.index\n",
    "OH_cols_valid.index = test_df.index\n",
    "\n",
    "# Remove categorical columns (will replace with one-hot encoding)\n",
    "num_X_train = train_df.drop(low_cardinality_cols, axis=1)\n",
    "num_X_valid = test_df.drop(low_cardinality_cols, axis=1)\n",
    "\n",
    "del train_df, test_df\n",
    "\n",
    "# Add one-hot encoded columns to numerical features\n",
    "OH_train_df = pd.concat([num_X_train, OH_cols_train], axis=1)\n",
    "OH_test_df = pd.concat([num_X_valid, OH_cols_valid], axis=1)"
   ]
  },
  {
   "cell_type": "code",
   "execution_count": 59,
   "metadata": {
    "execution": {
     "iopub.execute_input": "2022-03-14T17:07:17.646675Z",
     "iopub.status.busy": "2022-03-14T17:07:17.646153Z",
     "iopub.status.idle": "2022-03-14T17:07:17.696494Z",
     "shell.execute_reply": "2022-03-14T17:07:17.695552Z",
     "shell.execute_reply.started": "2022-03-14T17:07:17.64662Z"
    }
   },
   "outputs": [],
   "source": [
    "del num_X_train, OH_cols_train, num_X_valid, OH_cols_valid"
   ]
  },
  {
   "cell_type": "markdown",
   "metadata": {},
   "source": [
    "- We will now split the train dataset into train and validation sets (20% of data for validation)"
   ]
  },
  {
   "cell_type": "code",
   "execution_count": 60,
   "metadata": {},
   "outputs": [
    {
     "data": {
      "text/plain": [
       "Index([ 'TransactionDT', 'TransactionAmt',          'card1',          'card2',\n",
       "                'card3',          'card5',          'addr1',          'addr2',\n",
       "                'dist1',          'dist2',  'R_emaildomain',             'C1',\n",
       "                   'C2',             'C3',             'C4',             'C5',\n",
       "                   'C6',             'C7',             'C8',             'C9',\n",
       "                  'C10',            'C11',            'C12',            'C13',\n",
       "                  'C14',             'D1',             'D2',             'D3',\n",
       "                   'D4',             'D5',             'D6',             'D7',\n",
       "                   'D8',             'D9',            'D10',            'D11',\n",
       "                  'D12',            'D13',            'D14',            'D15',\n",
       "                'id_01',          'id_02',          'id_03',          'id_04',\n",
       "                'id_05',          'id_06',          'id_07',          'id_08',\n",
       "                'id_09',          'id_10',          'id_11',          'id_13',\n",
       "                'id_14',          'id_17',          'id_18',          'id_19',\n",
       "                'id_20',          'id_21',          'id_22',          'id_24',\n",
       "                'id_25',          'id_26',          'id_32',                0,\n",
       "                      1,                2,                3,                4,\n",
       "                      5,                6,                7,                8,\n",
       "                      9,               10,               11,               12,\n",
       "                     13,               14,               15,               16,\n",
       "                     17,               18,               19,               20,\n",
       "                     21,               22,               23,               24,\n",
       "                     25,               26],\n",
       "      dtype='object')"
      ]
     },
     "execution_count": 60,
     "metadata": {},
     "output_type": "execute_result"
    }
   ],
   "source": [
    "OH_train_df.columns"
   ]
  },
  {
   "cell_type": "code",
   "execution_count": 61,
   "metadata": {},
   "outputs": [
    {
     "data": {
      "text/plain": [
       "(590540,)"
      ]
     },
     "execution_count": 61,
     "metadata": {},
     "output_type": "execute_result"
    }
   ],
   "source": [
    "y_train.shape"
   ]
  },
  {
   "cell_type": "code",
   "execution_count": 62,
   "metadata": {},
   "outputs": [
    {
     "data": {
      "text/plain": [
       "(590540, 90)"
      ]
     },
     "execution_count": 62,
     "metadata": {},
     "output_type": "execute_result"
    }
   ],
   "source": [
    "OH_train_df.shape"
   ]
  },
  {
   "cell_type": "code",
   "execution_count": 63,
   "metadata": {
    "execution": {
     "iopub.execute_input": "2022-03-14T17:07:17.698674Z",
     "iopub.status.busy": "2022-03-14T17:07:17.698347Z",
     "iopub.status.idle": "2022-03-14T17:07:24.251616Z",
     "shell.execute_reply": "2022-03-14T17:07:24.246878Z",
     "shell.execute_reply.started": "2022-03-14T17:07:17.698615Z"
    }
   },
   "outputs": [],
   "source": [
    "X_train, X_test, y_train, y_test = train_test_split(OH_train_df, y_train.astype('uint8'), test_size=.1, random_state=42, stratify=y_train.astype('uint8'))"
   ]
  },
  {
   "cell_type": "code",
   "execution_count": 64,
   "metadata": {},
   "outputs": [
    {
     "data": {
      "image/png": "[encoded data removed]",
      "text/plain": [
       "<Figure size 640x480 with 1 Axes>"
      ]
     },
     "metadata": {},
     "output_type": "display_data"
    }
   ],
   "source": [
    "sns.countplot(x = y_train);"
   ]
  },
  {
   "cell_type": "code",
   "execution_count": 65,
   "metadata": {
    "execution": {
     "iopub.execute_input": "2022-03-14T17:54:52.783026Z",
     "iopub.status.busy": "2022-03-14T17:54:52.782497Z",
     "iopub.status.idle": "2022-03-14T17:54:54.96362Z",
     "shell.execute_reply": "2022-03-14T17:54:54.962381Z",
     "shell.execute_reply.started": "2022-03-14T17:54:52.782951Z"
    }
   },
   "outputs": [
    {
     "data": {
      "image/png": "[encoded data removed]",
      "text/plain": [
       "<Figure size 640x480 with 1 Axes>"
      ]
     },
     "metadata": {},
     "output_type": "display_data"
    }
   ],
   "source": [
    "# Downsample majority class\n",
    "df_majority_downsampled, y_majority_downsampled = resample(\n",
    "    X_train[y_train == 0], \n",
    "    y_train[y_train == 0],\n",
    "    replace=False,    # sample with replacement\n",
    "    n_samples=3*len(y_train[y_train == 1]),   \n",
    "    random_state=42)  # reproducible results\n",
    "\n",
    "X_down_train = pd.concat([X_train[y_train == 1], df_majority_downsampled])\n",
    "# print(X_down_train.shape)\n",
    "\n",
    "y_down_train = pd.concat([y_train[y_train == 1], y_majority_downsampled])\n",
    "# y_down_train.value_counts()\n",
    "\n",
    "sns.countplot(x = y_down_train);"
   ]
  },
  {
   "cell_type": "code",
   "execution_count": 66,
   "metadata": {
    "execution": {
     "iopub.execute_input": "2022-03-14T17:57:54.627368Z",
     "iopub.status.busy": "2022-03-14T17:57:54.626837Z",
     "iopub.status.idle": "2022-03-14T17:57:54.848714Z",
     "shell.execute_reply": "2022-03-14T17:57:54.847029Z",
     "shell.execute_reply.started": "2022-03-14T17:57:54.627315Z"
    }
   },
   "outputs": [
    {
     "data": {
      "image/png": "[encoded data removed]",
      "text/plain": [
       "<Figure size 640x480 with 1 Axes>"
      ]
     },
     "metadata": {},
     "output_type": "display_data"
    }
   ],
   "source": [
    "X_train_sm, y_train_sm = X_down_train, y_down_train\n",
    "\n",
    "# # # Upsample minority class with Smote variant\n",
    "# from imblearn.over_sampling import SMOTE\n",
    "# # from imblearn.combine import SMOTETomek\n",
    "# # from imblearn.combine import SMOTEENN\n",
    "# smt = SMOTE(random_state=42)\n",
    "# # smt = SMOTETomek(random_state=42)\n",
    "# # smt = SMOTEENN(random_state=42)\n",
    "# X_train_sm, y_train_sm = smt.fit_resample(X_down_train, y_down_train)\n",
    "\n",
    "sns.countplot(x = y_train_sm);"
   ]
  },
  {
   "cell_type": "markdown",
   "metadata": {},
   "source": [
    "## Fit the model"
   ]
  },
  {
   "cell_type": "code",
   "execution_count": 67,
   "metadata": {},
   "outputs": [],
   "source": [
    "X_train_sm.columns = [str(col) for col in X_train_sm.columns]"
   ]
  },
  {
   "cell_type": "code",
   "execution_count": 68,
   "metadata": {},
   "outputs": [
    {
     "data": {
      "text/plain": [
       "Index(['TransactionDT', 'TransactionAmt', 'card1', 'card2', 'card3', 'card5',\n",
       "       'addr1', 'addr2', 'dist1', 'dist2', 'R_emaildomain', 'C1', 'C2', 'C3',\n",
       "       'C4', 'C5', 'C6', 'C7', 'C8', 'C9', 'C10', 'C11', 'C12', 'C13', 'C14',\n",
       "       'D1', 'D2', 'D3', 'D4', 'D5', 'D6', 'D7', 'D8', 'D9', 'D10', 'D11',\n",
       "       'D12', 'D13', 'D14', 'D15', 'id_01', 'id_02', 'id_03', 'id_04', 'id_05',\n",
       "       'id_06', 'id_07', 'id_08', 'id_09', 'id_10', 'id_11', 'id_13', 'id_14',\n",
       "       'id_17', 'id_18', 'id_19', 'id_20', 'id_21', 'id_22', 'id_24', 'id_25',\n",
       "       'id_26', 'id_32', '0', '1', '2', '3', '4', '5', '6', '7', '8', '9',\n",
       "       '10', '11', '12', '13', '14', '15', '16', '17', '18', '19', '20', '21',\n",
       "       '22', '23', '24', '25', '26'],\n",
       "      dtype='object')"
      ]
     },
     "execution_count": 68,
     "metadata": {},
     "output_type": "execute_result"
    }
   ],
   "source": [
    "X_train_sm.columns"
   ]
  },
  {
   "cell_type": "code",
   "execution_count": 69,
   "metadata": {},
   "outputs": [],
   "source": [
    "clf_rf_down = RandomForestClassifier(random_state=42, n_estimators=50)\n",
    "model_rf_down = clf_rf_down.fit(X_train_sm, y_train_sm)"
   ]
  },
  {
   "cell_type": "code",
   "execution_count": 70,
   "metadata": {},
   "outputs": [],
   "source": [
    "X_test.columns = [str(col) for col in X_test.columns]"
   ]
  },
  {
   "cell_type": "code",
   "execution_count": 71,
   "metadata": {},
   "outputs": [
    {
     "data": {
      "text/plain": [
       "0    56988\n",
       "1     2066\n",
       "Name: isFraud, dtype: int64"
      ]
     },
     "execution_count": 71,
     "metadata": {},
     "output_type": "execute_result"
    }
   ],
   "source": [
    "y_test.value_counts()"
   ]
  },
  {
   "cell_type": "code",
   "execution_count": 72,
   "metadata": {},
   "outputs": [],
   "source": [
    "y_pred = model_rf_down.predict(X_test)"
   ]
  },
  {
   "cell_type": "code",
   "execution_count": 73,
   "metadata": {},
   "outputs": [],
   "source": [
    "y_prob = model_rf_down.predict_proba(X_test)[:, 1]\n",
    "y_prob__dummy = len(y_test[y_test==1]) / len(y_test)"
   ]
  },
  {
   "cell_type": "code",
   "execution_count": 74,
   "metadata": {},
   "outputs": [
    {
     "data": {
      "text/plain": [
       "array([0.1 , 0.06, 0.04, ..., 0.2 , 0.14, 0.12])"
      ]
     },
     "execution_count": 74,
     "metadata": {},
     "output_type": "execute_result"
    }
   ],
   "source": [
    "y_prob"
   ]
  },
  {
   "cell_type": "code",
   "execution_count": 75,
   "metadata": {},
   "outputs": [],
   "source": [
    "#explainer = shap.TreeExplainer(model_rf_down)"
   ]
  },
  {
   "cell_type": "code",
   "execution_count": 76,
   "metadata": {},
   "outputs": [],
   "source": [
    "#import shap\n",
    "#shap.initjs()\n",
    "#rf_shap_values = shap.KernelExplainer(model_rf_down.predict,X_test)"
   ]
  },
  {
   "cell_type": "code",
   "execution_count": 77,
   "metadata": {},
   "outputs": [],
   "source": [
    "#rf_explainer = shap.KernelExplainer(model_rf_down.predict,X_test)\n",
    "#rf_shap_values = rf_explainer.shap_values(X_test, nsamples=100)\n",
    "#shap.summary_plot(rf_shap_values, X_test)"
   ]
  },
  {
   "cell_type": "markdown",
   "metadata": {},
   "source": [
    "## Model Evaluation & Performance Metrics"
   ]
  },
  {
   "cell_type": "code",
   "execution_count": 78,
   "metadata": {},
   "outputs": [],
   "source": [
    "rf__acc = accuracy_score(y_test, y_pred)\n",
    "rf__roc_auc = roc_auc_score(y_test, y_prob)\n",
    "rf__conf_matrx = confusion_matrix(y_test, y_pred)"
   ]
  },
  {
   "cell_type": "code",
   "execution_count": 79,
   "metadata": {
    "execution": {
     "iopub.execute_input": "2022-03-14T17:57:57.987167Z",
     "iopub.status.busy": "2022-03-14T17:57:57.986696Z",
     "iopub.status.idle": "2022-03-14T17:58:22.771439Z",
     "shell.execute_reply": "2022-03-14T17:58:22.77035Z",
     "shell.execute_reply.started": "2022-03-14T17:57:57.987092Z"
    }
   },
   "outputs": [
    {
     "name": "stdout",
     "output_type": "stream",
     "text": [
      "Accuracy score = 0.971\n",
      "ROC-AUC score: 0.939\n"
     ]
    }
   ],
   "source": [
    "print(f\"Accuracy score = {rf__acc:.3f}\")\n",
    "print(f'ROC-AUC score: {rf__roc_auc:.3f}')"
   ]
  },
  {
   "cell_type": "code",
   "execution_count": 80,
   "metadata": {},
   "outputs": [
    {
     "name": "stdout",
     "output_type": "stream",
     "text": [
      "              precision    recall  f1-score   support\n",
      "\n",
      "           0       0.99      0.98      0.99     56988\n",
      "           1       0.57      0.72      0.64      2066\n",
      "\n",
      "    accuracy                           0.97     59054\n",
      "   macro avg       0.78      0.85      0.81     59054\n",
      "weighted avg       0.98      0.97      0.97     59054\n",
      "\n"
     ]
    }
   ],
   "source": [
    "print(classification_report(y_test,y_pred))"
   ]
  },
  {
   "cell_type": "code",
   "execution_count": 81,
   "metadata": {},
   "outputs": [],
   "source": [
    "cr = classification_report(y_test,y_pred, output_dict=True)"
   ]
  },
  {
   "cell_type": "code",
   "execution_count": 82,
   "metadata": {},
   "outputs": [],
   "source": [
    "rf__1_recall_df = pd.DataFrame([cr['1']['recall']*100], columns=['Recall-class-1'])\n",
    "rf__1_precision_df = pd.DataFrame([cr['1']['precision']*100], columns=['Precision-class-1'])"
   ]
  },
  {
   "cell_type": "code",
   "execution_count": 83,
   "metadata": {},
   "outputs": [],
   "source": [
    "TN = rf__conf_matrx[0][0]\n",
    "FN = rf__conf_matrx[1][0]\n",
    "TP = rf__conf_matrx[1][1]\n",
    "FP = rf__conf_matrx[0][1]"
   ]
  },
  {
   "cell_type": "code",
   "execution_count": 84,
   "metadata": {},
   "outputs": [],
   "source": [
    "rf__precision, rf__recall, rf__thresholds = precision_recall_curve(y_test, y_prob)\n",
    "#rf__precision, rf__recall, rf__thresholds = precision_recall_curve(y_test, y_prob)"
   ]
  },
  {
   "cell_type": "code",
   "execution_count": 85,
   "metadata": {},
   "outputs": [
    {
     "data": {
      "text/plain": [
       "0.7186716965047146"
      ]
     },
     "execution_count": 85,
     "metadata": {},
     "output_type": "execute_result"
    }
   ],
   "source": [
    "rf__auc_score = auc(rf__recall, rf__precision)\n",
    "rf__auc_score"
   ]
  },
  {
   "cell_type": "code",
   "execution_count": 86,
   "metadata": {},
   "outputs": [
    {
     "data": {
      "image/png": "[encoded data removed]",
      "text/plain": [
       "<Figure size 640x480 with 1 Axes>"
      ]
     },
     "metadata": {},
     "output_type": "display_data"
    }
   ],
   "source": [
    "plt.plot([0, 1], [y_prob__dummy, y_prob__dummy], linestyle='--', label='Placebo Modelling')\n",
    "plt.plot(rf__recall, rf__precision, marker='.', label='Random Forest')\n",
    "# axis labels\n",
    "plt.xlabel('Recall')\n",
    "plt.ylabel('Precision')\n",
    "# show the legend\n",
    "plt.legend()\n",
    "# show the plot\n",
    "plt.show()"
   ]
  },
  {
   "cell_type": "code",
   "execution_count": 87,
   "metadata": {},
   "outputs": [
    {
     "data": {
      "image/png": "[encoded data removed]",
      "text/plain": [
       "<Figure size 400x400 with 2 Axes>"
      ]
     },
     "metadata": {},
     "output_type": "display_data"
    }
   ],
   "source": [
    "# Build the plot\n",
    "plt.figure(figsize=(4,4))\n",
    "sns.set(font_scale=1.4)\n",
    "sns.heatmap(rf__conf_matrx, annot=True, annot_kws={'size':12},fmt=',d', cmap=plt.cm.Greens, linewidths=0.2)\n",
    "class_names = ['Not Fraudulent', 'Is Fraudulent']\n",
    "tick_marks = np.arange(len(class_names))\n",
    "tick_marks2 = tick_marks + 0.5\n",
    "plt.xticks(tick_marks, class_names, rotation=25)\n",
    "plt.yticks(tick_marks2, class_names, rotation=0)\n",
    "plt.xlabel('Predicted label')\n",
    "plt.ylabel('True label')\n",
    "plt.title('Confusion Matrix for Random Forest Model')\n",
    "plt.show()"
   ]
  },
  {
   "cell_type": "code",
   "execution_count": 88,
   "metadata": {
    "scrolled": true
   },
   "outputs": [],
   "source": [
    "rf__features_df = pd.DataFrame({'features': model_rf_down.feature_names_in_, 'importance': model_rf_down.feature_importances_ })"
   ]
  },
  {
   "cell_type": "code",
   "execution_count": 89,
   "metadata": {},
   "outputs": [],
   "source": [
    "rf__features_df['importance'] = rf__features_df.importance.apply(lambda x: round(x,4))"
   ]
  },
  {
   "cell_type": "code",
   "execution_count": 90,
   "metadata": {},
   "outputs": [
    {
     "data": {
      "text/html": [
       "<div>\n",
       "<style scoped>\n",
       "    .dataframe tbody tr th:only-of-type {\n",
       "        vertical-align: middle;\n",
       "    }\n",
       "\n",
       "    .dataframe tbody tr th {\n",
       "        vertical-align: top;\n",
       "    }\n",
       "\n",
       "    .dataframe thead th {\n",
       "        text-align: right;\n",
       "    }\n",
       "</style>\n",
       "<table border=\"1\" class=\"dataframe\">\n",
       "  <thead>\n",
       "    <tr style=\"text-align: right;\">\n",
       "      <th></th>\n",
       "      <th>features</th>\n",
       "      <th>importance</th>\n",
       "    </tr>\n",
       "  </thead>\n",
       "  <tbody>\n",
       "    <tr>\n",
       "      <th>1</th>\n",
       "      <td>TransactionAmt</td>\n",
       "      <td>0.0467</td>\n",
       "    </tr>\n",
       "    <tr>\n",
       "      <th>23</th>\n",
       "      <td>C13</td>\n",
       "      <td>0.0454</td>\n",
       "    </tr>\n",
       "    <tr>\n",
       "      <th>0</th>\n",
       "      <td>TransactionDT</td>\n",
       "      <td>0.0450</td>\n",
       "    </tr>\n",
       "    <tr>\n",
       "      <th>11</th>\n",
       "      <td>C1</td>\n",
       "      <td>0.0402</td>\n",
       "    </tr>\n",
       "    <tr>\n",
       "      <th>2</th>\n",
       "      <td>card1</td>\n",
       "      <td>0.0391</td>\n",
       "    </tr>\n",
       "    <tr>\n",
       "      <th>...</th>\n",
       "      <td>...</td>\n",
       "      <td>...</td>\n",
       "    </tr>\n",
       "    <tr>\n",
       "      <th>61</th>\n",
       "      <td>id_26</td>\n",
       "      <td>0.0004</td>\n",
       "    </tr>\n",
       "    <tr>\n",
       "      <th>59</th>\n",
       "      <td>id_24</td>\n",
       "      <td>0.0003</td>\n",
       "    </tr>\n",
       "    <tr>\n",
       "      <th>58</th>\n",
       "      <td>id_22</td>\n",
       "      <td>0.0002</td>\n",
       "    </tr>\n",
       "    <tr>\n",
       "      <th>13</th>\n",
       "      <td>C3</td>\n",
       "      <td>0.0001</td>\n",
       "    </tr>\n",
       "    <tr>\n",
       "      <th>71</th>\n",
       "      <td>8</td>\n",
       "      <td>0.0000</td>\n",
       "    </tr>\n",
       "  </tbody>\n",
       "</table>\n",
       "<p>90 rows × 2 columns</p>\n",
       "</div>"
      ],
      "text/plain": [
       "          features  importance\n",
       "1   TransactionAmt      0.0467\n",
       "23             C13      0.0454\n",
       "0    TransactionDT      0.0450\n",
       "11              C1      0.0402\n",
       "2            card1      0.0391\n",
       "..             ...         ...\n",
       "61           id_26      0.0004\n",
       "59           id_24      0.0003\n",
       "58           id_22      0.0002\n",
       "13              C3      0.0001\n",
       "71               8      0.0000\n",
       "\n",
       "[90 rows x 2 columns]"
      ]
     },
     "execution_count": 90,
     "metadata": {},
     "output_type": "execute_result"
    }
   ],
   "source": [
    "rf__features_df_sorted = rf__features_df.sort_values(by='importance', ascending=False)\n",
    "rf__features_df_sorted"
   ]
  },
  {
   "cell_type": "code",
   "execution_count": 91,
   "metadata": {},
   "outputs": [],
   "source": [
    "def get_normalized(inp_df, column):\n",
    "    norm_imp = 100*(inp_df[column] - inp_df[column].min()) / (inp_df[column].max() - inp_df[column].min())\n",
    "    inp_df_2 = inp_df.assign(Normalized=norm_imp)\n",
    "    col_name = \"Normalized_\"+column\n",
    "    inp_df_2 = inp_df_2.rename(columns={'Normalized':col_name})\n",
    "    inp_df_2 = inp_df_2.sort_values(by=col_name, ascending=False)\n",
    "    return inp_df_2"
   ]
  },
  {
   "cell_type": "code",
   "execution_count": 92,
   "metadata": {},
   "outputs": [],
   "source": [
    "rf__features_df_norm =get_normalized(inp_df = rf__features_df_sorted, column = 'importance')"
   ]
  },
  {
   "cell_type": "code",
   "execution_count": 93,
   "metadata": {},
   "outputs": [
    {
     "data": {
      "text/html": [
       "<div>\n",
       "<style scoped>\n",
       "    .dataframe tbody tr th:only-of-type {\n",
       "        vertical-align: middle;\n",
       "    }\n",
       "\n",
       "    .dataframe tbody tr th {\n",
       "        vertical-align: top;\n",
       "    }\n",
       "\n",
       "    .dataframe thead th {\n",
       "        text-align: right;\n",
       "    }\n",
       "</style>\n",
       "<table border=\"1\" class=\"dataframe\">\n",
       "  <thead>\n",
       "    <tr style=\"text-align: right;\">\n",
       "      <th></th>\n",
       "      <th>features</th>\n",
       "      <th>importance</th>\n",
       "      <th>Normalized_importance</th>\n",
       "    </tr>\n",
       "  </thead>\n",
       "  <tbody>\n",
       "    <tr>\n",
       "      <th>1</th>\n",
       "      <td>TransactionAmt</td>\n",
       "      <td>0.0467</td>\n",
       "      <td>100.000000</td>\n",
       "    </tr>\n",
       "    <tr>\n",
       "      <th>23</th>\n",
       "      <td>C13</td>\n",
       "      <td>0.0454</td>\n",
       "      <td>97.216274</td>\n",
       "    </tr>\n",
       "    <tr>\n",
       "      <th>0</th>\n",
       "      <td>TransactionDT</td>\n",
       "      <td>0.0450</td>\n",
       "      <td>96.359743</td>\n",
       "    </tr>\n",
       "    <tr>\n",
       "      <th>11</th>\n",
       "      <td>C1</td>\n",
       "      <td>0.0402</td>\n",
       "      <td>86.081370</td>\n",
       "    </tr>\n",
       "    <tr>\n",
       "      <th>2</th>\n",
       "      <td>card1</td>\n",
       "      <td>0.0391</td>\n",
       "      <td>83.725910</td>\n",
       "    </tr>\n",
       "    <tr>\n",
       "      <th>...</th>\n",
       "      <td>...</td>\n",
       "      <td>...</td>\n",
       "      <td>...</td>\n",
       "    </tr>\n",
       "    <tr>\n",
       "      <th>61</th>\n",
       "      <td>id_26</td>\n",
       "      <td>0.0004</td>\n",
       "      <td>0.856531</td>\n",
       "    </tr>\n",
       "    <tr>\n",
       "      <th>59</th>\n",
       "      <td>id_24</td>\n",
       "      <td>0.0003</td>\n",
       "      <td>0.642398</td>\n",
       "    </tr>\n",
       "    <tr>\n",
       "      <th>58</th>\n",
       "      <td>id_22</td>\n",
       "      <td>0.0002</td>\n",
       "      <td>0.428266</td>\n",
       "    </tr>\n",
       "    <tr>\n",
       "      <th>13</th>\n",
       "      <td>C3</td>\n",
       "      <td>0.0001</td>\n",
       "      <td>0.214133</td>\n",
       "    </tr>\n",
       "    <tr>\n",
       "      <th>71</th>\n",
       "      <td>8</td>\n",
       "      <td>0.0000</td>\n",
       "      <td>0.000000</td>\n",
       "    </tr>\n",
       "  </tbody>\n",
       "</table>\n",
       "<p>90 rows × 3 columns</p>\n",
       "</div>"
      ],
      "text/plain": [
       "          features  importance  Normalized_importance\n",
       "1   TransactionAmt      0.0467             100.000000\n",
       "23             C13      0.0454              97.216274\n",
       "0    TransactionDT      0.0450              96.359743\n",
       "11              C1      0.0402              86.081370\n",
       "2            card1      0.0391              83.725910\n",
       "..             ...         ...                    ...\n",
       "61           id_26      0.0004               0.856531\n",
       "59           id_24      0.0003               0.642398\n",
       "58           id_22      0.0002               0.428266\n",
       "13              C3      0.0001               0.214133\n",
       "71               8      0.0000               0.000000\n",
       "\n",
       "[90 rows x 3 columns]"
      ]
     },
     "execution_count": 93,
     "metadata": {},
     "output_type": "execute_result"
    }
   ],
   "source": [
    "rf__features_df_norm"
   ]
  },
  {
   "cell_type": "code",
   "execution_count": 94,
   "metadata": {},
   "outputs": [],
   "source": [
    "final_feature_imp = rf__features_df_norm[:10]"
   ]
  },
  {
   "cell_type": "code",
   "execution_count": 95,
   "metadata": {},
   "outputs": [
    {
     "data": {
      "text/html": [
       "<div>\n",
       "<style scoped>\n",
       "    .dataframe tbody tr th:only-of-type {\n",
       "        vertical-align: middle;\n",
       "    }\n",
       "\n",
       "    .dataframe tbody tr th {\n",
       "        vertical-align: top;\n",
       "    }\n",
       "\n",
       "    .dataframe thead th {\n",
       "        text-align: right;\n",
       "    }\n",
       "</style>\n",
       "<table border=\"1\" class=\"dataframe\">\n",
       "  <thead>\n",
       "    <tr style=\"text-align: right;\">\n",
       "      <th></th>\n",
       "      <th>features</th>\n",
       "      <th>importance</th>\n",
       "      <th>Normalized_importance</th>\n",
       "    </tr>\n",
       "  </thead>\n",
       "  <tbody>\n",
       "    <tr>\n",
       "      <th>1</th>\n",
       "      <td>TransactionAmt</td>\n",
       "      <td>0.0467</td>\n",
       "      <td>100.000000</td>\n",
       "    </tr>\n",
       "    <tr>\n",
       "      <th>23</th>\n",
       "      <td>C13</td>\n",
       "      <td>0.0454</td>\n",
       "      <td>97.216274</td>\n",
       "    </tr>\n",
       "    <tr>\n",
       "      <th>0</th>\n",
       "      <td>TransactionDT</td>\n",
       "      <td>0.0450</td>\n",
       "      <td>96.359743</td>\n",
       "    </tr>\n",
       "    <tr>\n",
       "      <th>11</th>\n",
       "      <td>C1</td>\n",
       "      <td>0.0402</td>\n",
       "      <td>86.081370</td>\n",
       "    </tr>\n",
       "    <tr>\n",
       "      <th>2</th>\n",
       "      <td>card1</td>\n",
       "      <td>0.0391</td>\n",
       "      <td>83.725910</td>\n",
       "    </tr>\n",
       "    <tr>\n",
       "      <th>24</th>\n",
       "      <td>C14</td>\n",
       "      <td>0.0366</td>\n",
       "      <td>78.372591</td>\n",
       "    </tr>\n",
       "    <tr>\n",
       "      <th>3</th>\n",
       "      <td>card2</td>\n",
       "      <td>0.0351</td>\n",
       "      <td>75.160600</td>\n",
       "    </tr>\n",
       "    <tr>\n",
       "      <th>26</th>\n",
       "      <td>D2</td>\n",
       "      <td>0.0327</td>\n",
       "      <td>70.021413</td>\n",
       "    </tr>\n",
       "    <tr>\n",
       "      <th>6</th>\n",
       "      <td>addr1</td>\n",
       "      <td>0.0310</td>\n",
       "      <td>66.381156</td>\n",
       "    </tr>\n",
       "    <tr>\n",
       "      <th>27</th>\n",
       "      <td>D3</td>\n",
       "      <td>0.0290</td>\n",
       "      <td>62.098501</td>\n",
       "    </tr>\n",
       "  </tbody>\n",
       "</table>\n",
       "</div>"
      ],
      "text/plain": [
       "          features  importance  Normalized_importance\n",
       "1   TransactionAmt      0.0467             100.000000\n",
       "23             C13      0.0454              97.216274\n",
       "0    TransactionDT      0.0450              96.359743\n",
       "11              C1      0.0402              86.081370\n",
       "2            card1      0.0391              83.725910\n",
       "24             C14      0.0366              78.372591\n",
       "3            card2      0.0351              75.160600\n",
       "26              D2      0.0327              70.021413\n",
       "6            addr1      0.0310              66.381156\n",
       "27              D3      0.0290              62.098501"
      ]
     },
     "execution_count": 95,
     "metadata": {},
     "output_type": "execute_result"
    }
   ],
   "source": [
    "final_feature_imp"
   ]
  },
  {
   "cell_type": "code",
   "execution_count": 96,
   "metadata": {},
   "outputs": [
    {
     "data": {
      "text/html": [
       "<div>\n",
       "<style scoped>\n",
       "    .dataframe tbody tr th:only-of-type {\n",
       "        vertical-align: middle;\n",
       "    }\n",
       "\n",
       "    .dataframe tbody tr th {\n",
       "        vertical-align: top;\n",
       "    }\n",
       "\n",
       "    .dataframe thead th {\n",
       "        text-align: right;\n",
       "    }\n",
       "</style>\n",
       "<table border=\"1\" class=\"dataframe\">\n",
       "  <thead>\n",
       "    <tr style=\"text-align: right;\">\n",
       "      <th></th>\n",
       "      <th>features</th>\n",
       "      <th>importance</th>\n",
       "      <th>Normalized_importance</th>\n",
       "    </tr>\n",
       "  </thead>\n",
       "  <tbody>\n",
       "    <tr>\n",
       "      <th>1</th>\n",
       "      <td>TransactionAmt</td>\n",
       "      <td>0.0467</td>\n",
       "      <td>100.000000</td>\n",
       "    </tr>\n",
       "    <tr>\n",
       "      <th>23</th>\n",
       "      <td>C13</td>\n",
       "      <td>0.0454</td>\n",
       "      <td>97.216274</td>\n",
       "    </tr>\n",
       "    <tr>\n",
       "      <th>0</th>\n",
       "      <td>TransactionDT</td>\n",
       "      <td>0.0450</td>\n",
       "      <td>96.359743</td>\n",
       "    </tr>\n",
       "    <tr>\n",
       "      <th>11</th>\n",
       "      <td>C1</td>\n",
       "      <td>0.0402</td>\n",
       "      <td>86.081370</td>\n",
       "    </tr>\n",
       "    <tr>\n",
       "      <th>2</th>\n",
       "      <td>card1</td>\n",
       "      <td>0.0391</td>\n",
       "      <td>83.725910</td>\n",
       "    </tr>\n",
       "    <tr>\n",
       "      <th>24</th>\n",
       "      <td>C14</td>\n",
       "      <td>0.0366</td>\n",
       "      <td>78.372591</td>\n",
       "    </tr>\n",
       "    <tr>\n",
       "      <th>3</th>\n",
       "      <td>card2</td>\n",
       "      <td>0.0351</td>\n",
       "      <td>75.160600</td>\n",
       "    </tr>\n",
       "    <tr>\n",
       "      <th>26</th>\n",
       "      <td>D2</td>\n",
       "      <td>0.0327</td>\n",
       "      <td>70.021413</td>\n",
       "    </tr>\n",
       "    <tr>\n",
       "      <th>6</th>\n",
       "      <td>addr1</td>\n",
       "      <td>0.0310</td>\n",
       "      <td>66.381156</td>\n",
       "    </tr>\n",
       "    <tr>\n",
       "      <th>27</th>\n",
       "      <td>D3</td>\n",
       "      <td>0.0290</td>\n",
       "      <td>62.098501</td>\n",
       "    </tr>\n",
       "  </tbody>\n",
       "</table>\n",
       "</div>"
      ],
      "text/plain": [
       "          features  importance  Normalized_importance\n",
       "1   TransactionAmt      0.0467             100.000000\n",
       "23             C13      0.0454              97.216274\n",
       "0    TransactionDT      0.0450              96.359743\n",
       "11              C1      0.0402              86.081370\n",
       "2            card1      0.0391              83.725910\n",
       "24             C14      0.0366              78.372591\n",
       "3            card2      0.0351              75.160600\n",
       "26              D2      0.0327              70.021413\n",
       "6            addr1      0.0310              66.381156\n",
       "27              D3      0.0290              62.098501"
      ]
     },
     "execution_count": 96,
     "metadata": {},
     "output_type": "execute_result"
    }
   ],
   "source": [
    "final_feature_imp"
   ]
  },
  {
   "cell_type": "markdown",
   "metadata": {},
   "source": [
    "## Store the Model for downstream use (hosting, inferencing)"
   ]
  },
  {
   "cell_type": "code",
   "execution_count": 411,
   "metadata": {},
   "outputs": [
    {
     "data": {
      "text/plain": [
       "'1.2.0'"
      ]
     },
     "execution_count": 411,
     "metadata": {},
     "output_type": "execute_result"
    }
   ],
   "source": [
    "import joblib\n",
    "joblib.__version__"
   ]
  },
  {
   "cell_type": "code",
   "execution_count": 412,
   "metadata": {},
   "outputs": [
    {
     "name": "stdout",
     "output_type": "stream",
     "text": [
      "1.2.0\n"
     ]
    },
    {
     "data": {
      "text/plain": [
       "{'ResponseMetadata': {'RequestId': 'FHHRYQWJNGY9Z4BK',\n",
       "  'HostId': '7KOOFFUWZ4+Pvj3LyHe0JO6OL3h+rSgg/V68mehCwSq+/8OzBC3nM3dnNMJEkxMWlzooqnckhJYJrXx6QwRCsQ==',\n",
       "  'HTTPStatusCode': 200,\n",
       "  'HTTPHeaders': {'x-amz-id-2': '7KOOFFUWZ4+Pvj3LyHe0JO6OL3h+rSgg/V68mehCwSq+/8OzBC3nM3dnNMJEkxMWlzooqnckhJYJrXx6QwRCsQ==',\n",
       "   'x-amz-request-id': 'FHHRYQWJNGY9Z4BK',\n",
       "   'date': 'Tue, 18 Apr 2023 13:01:27 GMT',\n",
       "   'x-amz-version-id': '.IsTEjlWeeD06dlk4IexzU0GYgeHNM8a',\n",
       "   'x-amz-server-side-encryption': 'AES256',\n",
       "   'etag': '\"5d9e0cc3bf9bb0b195aef56364146d5b\"',\n",
       "   'server': 'AmazonS3',\n",
       "   'content-length': '0'},\n",
       "  'RetryAttempts': 0},\n",
       " 'ETag': '\"5d9e0cc3bf9bb0b195aef56364146d5b\"',\n",
       " 'ServerSideEncryption': 'AES256',\n",
       " 'VersionId': '.IsTEjlWeeD06dlk4IexzU0GYgeHNM8a'}"
      ]
     },
     "execution_count": 412,
     "metadata": {},
     "output_type": "execute_result"
    }
   ],
   "source": [
    "s3 = boto3.resource('s3')\n",
    "bucket_name = \"asean-deltalake--raw\"\n",
    "key = \"rf_model.pkl\"\n",
    "OutputFile = bucket_name + key\n",
    "print(joblib.__version__)\n",
    "\n",
    "# WRITE\n",
    "pickle.dump(model_rf_down, open(key, 'wb'))\n",
    "#s3 = boto3.resource('s3')\n",
    "#my_pickle = pickle.loads(s3.Bucket(bucket_name).Object(key).get()['Body'].read())\n",
    "pickle_byte_obj = pickle.dumps(model_rf_down)\n",
    "s3.Object(bucket_name,key).put(Body=pickle_byte_obj)"
   ]
  },
  {
   "cell_type": "code",
   "execution_count": 413,
   "metadata": {},
   "outputs": [],
   "source": [
    "if False:\n",
    "    with tempfile.TemporaryFile() as fp:\n",
    "        joblib.dump(model_rf_down, fp)\n",
    "        fp.seek(0)\n",
    "        s3.put_object(Bucket = bucket_name, Key = key, Body=fp.read())"
   ]
  },
  {
   "cell_type": "code",
   "execution_count": 414,
   "metadata": {},
   "outputs": [
    {
     "name": "stdout",
     "output_type": "stream",
     "text": [
      "Overwriting inference.py\n"
     ]
    }
   ],
   "source": [
    "%%writefile inference.py\n",
    "\n",
    "import os\n",
    "os.system(\"pip uninstall joblib --yes\")\n",
    "os.system(\"pip install joblib\")\n",
    "\n",
    "import joblib\n",
    "import json\n",
    "import pickle\n",
    "import tempfile\n",
    "import boto3\n",
    "from io import BytesIO\n",
    "#from sklearn.externals import joblib\n",
    "\n",
    "s3 = boto3.resource('s3')\n",
    "bucket_name = \"asean-deltalake--raw\"\n",
    "bucket_key = \"rf_model.pkl\"\n",
    "OutputFile = bucket_name + bucket_key\n",
    "\n",
    "\n",
    "\"\"\"\n",
    "Deserialize fitted model\n",
    "\"\"\"\n",
    "def model_fn(model_dir):\n",
    "    model = pickle.loads(s3.Bucket(bucket_name).Object(bucket_key).get()['Body'].read())\n",
    "    return model\n",
    "\n",
    "\"\"\"\n",
    "input_fn\n",
    "    request_body: The body of the request sent to the model.\n",
    "    request_content_type: (string) specifies the format/variable type of the request\n",
    "\"\"\"\n",
    "def input_fn(request_body, request_content_type):\n",
    "    if request_content_type == 'application/json':\n",
    "        request_body = json.loads(request_body)\n",
    "        inpVar = request_body['Input']\n",
    "        return inpVar\n",
    "    else:\n",
    "        raise ValueError(\"This model only supports application/json input\")\n",
    "\n",
    "\"\"\"\n",
    "predict_fn\n",
    "    input_data: returned array from input_fn above\n",
    "    model (sklearn model) returned model loaded from model_fn above\n",
    "\"\"\"\n",
    "def predict_fn(input_data, model):\n",
    "    print(joblib.__version__)\n",
    "    print(type(input_data))\n",
    "    print(input_data)\n",
    "    print(model)\n",
    "    print(type(model))\n",
    "    return model.predict(input_data)\n",
    "\n",
    "\"\"\"\n",
    "output_fn\n",
    "    prediction: the returned value from predict_fn above\n",
    "    content_type: the content type the endpoint expects to be returned. Ex: JSON, string\n",
    "\"\"\"\n",
    "\n",
    "def output_fn(prediction, content_type):\n",
    "    res = int(prediction[0])\n",
    "    respJSON = {'Output': res}\n",
    "    return respJSON"
   ]
  },
  {
   "cell_type": "markdown",
   "metadata": {},
   "source": [
    "## EXECUTE MAIN.PY IN IPYNB"
   ]
  },
  {
   "cell_type": "code",
   "execution_count": 415,
   "metadata": {},
   "outputs": [],
   "source": [
    "import boto3\n",
    "import json\n",
    "import os\n",
    "import joblib\n",
    "import pickle\n",
    "import tarfile\n",
    "import sagemaker\n",
    "from sagemaker.estimator import Estimator\n",
    "import time\n",
    "from time import gmtime, strftime\n",
    "import subprocess"
   ]
  },
  {
   "cell_type": "code",
   "execution_count": 416,
   "metadata": {},
   "outputs": [
    {
     "name": "stdout",
     "output_type": "stream",
     "text": [
      "ap-southeast-1\n"
     ]
    }
   ],
   "source": [
    "#Setup\n",
    "client = boto3.client(service_name=\"sagemaker\")\n",
    "runtime = boto3.client(service_name=\"sagemaker-runtime\")\n",
    "boto_session = boto3.session.Session()\n",
    "s3 = boto_session.resource('s3')\n",
    "region = boto_session.region_name\n",
    "print(region)\n",
    "sagemaker_session = sagemaker.Session()\n",
    "role = \"arn:aws:iam:role/sagemaker--s3-ecr--custom-model-deployment\""
   ]
  },
  {
   "cell_type": "code",
   "execution_count": 417,
   "metadata": {},
   "outputs": [
    {
     "name": "stdout",
     "output_type": "stream",
     "text": [
      "None\n",
      "asean-deltalake--raw\n",
      "None\n"
     ]
    }
   ],
   "source": [
    "#Build tar file with model data + inference code\n",
    "bashCommand = \"tar -cvpzf model.tar.gz rf_model.pkl inference.py\"\n",
    "process = subprocess.Popen(bashCommand.split(), stdout=subprocess.PIPE)\n",
    "output, error = process.communicate()\n",
    "print(error)\n",
    "\n",
    "# retrieve sklearn image\n",
    "image_uri = sagemaker.image_uris.retrieve(\n",
    "    framework=\"sklearn\",\n",
    "    region=region,\n",
    "    version=\"0.23-1\",\n",
    "    py_version=\"py3\",\n",
    "    instance_type=\"ml.m5.xlarge\",\n",
    ")\n",
    "\n",
    "#Bucket for model artifacts\n",
    "default_bucket = bucket_name\n",
    "OutputFile = bucket_name\n",
    "print(OutputFile)\n",
    "\n",
    "#Upload tar.gz to bucket\n",
    "model_artifacts = f\"s3://{OutputFile}/model.tar.gz\"\n",
    "response = s3.meta.client.upload_file('model.tar.gz', OutputFile, 'model.tar.gz')\n",
    "print(response)"
   ]
  },
  {
   "cell_type": "code",
   "execution_count": 418,
   "metadata": {},
   "outputs": [
    {
     "name": "stdout",
     "output_type": "stream",
     "text": [
      "Model name: sklearn--rf-classifier-fraud--2023-04-18-13-02-06\n",
      "Model Arn: arn:aws:sagemaker:ap-southeast-1:329193457145:model/sklearn--rf-classifier-fraud--2023-04-18-13-02-06\n"
     ]
    }
   ],
   "source": [
    "#Step 1: Model Creation\n",
    "model_name = \"sklearn--rf-classifier-fraud--\" + strftime(\"%Y-%m-%d-%H-%M-%S\", gmtime())\n",
    "print(\"Model name: \" + model_name)\n",
    "create_model_response = client.create_model(\n",
    "    ModelName=model_name,\n",
    "    Containers=[\n",
    "        {\n",
    "            \"Image\": image_uri,\n",
    "            \"Mode\": \"SingleModel\",\n",
    "            \"ModelDataUrl\": model_artifacts,\n",
    "            \"Environment\": {'SAGEMAKER_SUBMIT_DIRECTORY': model_artifacts,\n",
    "                           'SAGEMAKER_PROGRAM': 'inference.py'} \n",
    "        }\n",
    "    ],\n",
    "    ExecutionRoleArn=role,\n",
    ")\n",
    "print(\"Model Arn: \" + create_model_response[\"ModelArn\"])"
   ]
  },
  {
   "cell_type": "code",
   "execution_count": 419,
   "metadata": {},
   "outputs": [
    {
     "name": "stdout",
     "output_type": "stream",
     "text": [
      "Endpoint Configuration Arn: arn:aws:sagemaker:ap-southeast-1:329193457145:endpoint-config/sklearn-epc2023-04-18-13-02-07\n"
     ]
    }
   ],
   "source": [
    "#Step 2: EPC Creation\n",
    "sklearn_epc_name = \"sklearn-epc\" + strftime(\"%Y-%m-%d-%H-%M-%S\", gmtime())\n",
    "endpoint_config_response = client.create_endpoint_config(\n",
    "    EndpointConfigName=sklearn_epc_name,\n",
    "    ProductionVariants=[\n",
    "        {\n",
    "            \"VariantName\": \"sklearnvariant\",\n",
    "            \"ModelName\": model_name,\n",
    "            \"InstanceType\": \"ml.c5.large\",\n",
    "            \"InitialInstanceCount\": 1\n",
    "        },\n",
    "    ],\n",
    ")\n",
    "print(\"Endpoint Configuration Arn: \" + endpoint_config_response[\"EndpointConfigArn\"])"
   ]
  },
  {
   "cell_type": "code",
   "execution_count": 420,
   "metadata": {},
   "outputs": [
    {
     "name": "stdout",
     "output_type": "stream",
     "text": [
      "Endpoint Arn: arn:aws:sagemaker:ap-southeast-1:329193457145:endpoint/rf-classifier--ep-2023-04-18-13-02-07\n"
     ]
    }
   ],
   "source": [
    "#Step 3: EP Creation\n",
    "endpoint_name = \"rf-classifier--ep-\" + strftime(\"%Y-%m-%d-%H-%M-%S\", gmtime())\n",
    "create_endpoint_response = client.create_endpoint(\n",
    "    EndpointName=endpoint_name,\n",
    "    EndpointConfigName=sklearn_epc_name,\n",
    ")\n",
    "print(\"Endpoint Arn: \" + create_endpoint_response[\"EndpointArn\"])"
   ]
  },
  {
   "cell_type": "code",
   "execution_count": 421,
   "metadata": {
    "scrolled": false
   },
   "outputs": [
    {
     "name": "stdout",
     "output_type": "stream",
     "text": [
      "Creating1\n",
      "Creating2\n",
      "Creating3\n",
      "Creating4\n",
      "Creating5\n",
      "Creating6\n",
      "Creating7\n",
      "Creating8\n",
      "Creating9\n",
      "Creating10\n",
      "InService11\n",
      "{'EndpointName': 'rf-classifier--ep-2023-04-18-13-02-07', 'EndpointArn': 'arn:aws:sagemaker:ap-southeast-1:329193457145:endpoint/rf-classifier--ep-2023-04-18-13-02-07', 'EndpointConfigName': 'sklearn-epc2023-04-18-13-02-07', 'ProductionVariants': [{'VariantName': 'sklearnvariant', 'DeployedImages': [{'SpecifiedImage': '121021644041.dkr.ecr.ap-southeast-1.amazonaws.com/sagemaker-scikit-learn:0.23-1-cpu-py3', 'ResolvedImage': '121021644041.dkr.ecr.ap-southeast-1.amazonaws.com/sagemaker-scikit-learn@sha256:387f1fac72b3e95b58c719dd0ffdfec71c450795bfbfbce9a8a4de9da6affd37', 'ResolutionTime': datetime.datetime(2023, 4, 18, 13, 2, 8, 310000, tzinfo=tzlocal())}], 'CurrentWeight': 1.0, 'DesiredWeight': 1.0, 'CurrentInstanceCount': 1, 'DesiredInstanceCount': 1}], 'EndpointStatus': 'InService', 'CreationTime': datetime.datetime(2023, 4, 18, 13, 2, 7, 749000, tzinfo=tzlocal()), 'LastModifiedTime': datetime.datetime(2023, 4, 18, 13, 4, 27, 169000, tzinfo=tzlocal()), 'ResponseMetadata': {'RequestId': 'd97dcd4b-fa7a-41c5-b816-56e64a3a860c', 'HTTPStatusCode': 200, 'HTTPHeaders': {'x-amzn-requestid': 'd97dcd4b-fa7a-41c5-b816-56e64a3a860c', 'content-type': 'application/x-amz-json-1.1', 'content-length': '786', 'date': 'Tue, 18 Apr 2023 13:04:39 GMT'}, 'RetryAttempts': 0}}\n"
     ]
    }
   ],
   "source": [
    "#Monitor creation\n",
    "i=1\n",
    "describe_endpoint_response = client.describe_endpoint(EndpointName=endpoint_name)\n",
    "while describe_endpoint_response[\"EndpointStatus\"] == \"Creating\":\n",
    "    describe_endpoint_response = client.describe_endpoint(EndpointName=endpoint_name)\n",
    "    print(describe_endpoint_response[\"EndpointStatus\"] + str(i))\n",
    "    i=i+1\n",
    "    time.sleep(15)\n",
    "print(describe_endpoint_response)"
   ]
  },
  {
   "cell_type": "markdown",
   "metadata": {},
   "source": [
    "## INVOKE.PY"
   ]
  },
  {
   "cell_type": "code",
   "execution_count": 422,
   "metadata": {},
   "outputs": [],
   "source": [
    "import boto3\n",
    "import json"
   ]
  },
  {
   "cell_type": "code",
   "execution_count": 423,
   "metadata": {},
   "outputs": [
    {
     "data": {
      "text/plain": [
       "TransactionDT     3.437243e+06\n",
       "TransactionAmt    2.885938e+01\n",
       "card1             4.504000e+03\n",
       "card2             5.000000e+02\n",
       "card3             1.850000e+02\n",
       "                      ...     \n",
       "22                0.000000e+00\n",
       "23                0.000000e+00\n",
       "24                0.000000e+00\n",
       "25                0.000000e+00\n",
       "26                0.000000e+00\n",
       "Name: 3149236, Length: 90, dtype: float64"
      ]
     },
     "execution_count": 423,
     "metadata": {},
     "output_type": "execute_result"
    }
   ],
   "source": [
    "X_train_sm.iloc[0]"
   ]
  },
  {
   "cell_type": "code",
   "execution_count": 424,
   "metadata": {},
   "outputs": [
    {
     "data": {
      "text/plain": [
       "TransactionID\n",
       "3038022    0\n",
       "3368984    0\n",
       "3041504    0\n",
       "3086348    0\n",
       "2990012    0\n",
       "          ..\n",
       "3318249    0\n",
       "3005021    0\n",
       "3465609    0\n",
       "3361749    0\n",
       "3134508    0\n",
       "Name: isFraud, Length: 59054, dtype: uint8"
      ]
     },
     "execution_count": 424,
     "metadata": {},
     "output_type": "execute_result"
    }
   ],
   "source": [
    "y_test"
   ]
  },
  {
   "cell_type": "code",
   "execution_count": 425,
   "metadata": {},
   "outputs": [
    {
     "data": {
      "text/plain": [
       "[1202215.0,\n",
       " 171.0,\n",
       " 15497.0,\n",
       " 490.0,\n",
       " 150.0,\n",
       " 226.0,\n",
       " 299.0,\n",
       " 87.0,\n",
       " 118.5,\n",
       " 231.875,\n",
       " 0.0,\n",
       " 1.0,\n",
       " 1.0,\n",
       " 0.0,\n",
       " 0.0,\n",
       " 0.0,\n",
       " 1.0,\n",
       " 0.0,\n",
       " 0.0,\n",
       " 0.0,\n",
       " 0.0,\n",
       " 1.0,\n",
       " 0.0,\n",
       " 1.0,\n",
       " 1.0,\n",
       " 0.0,\n",
       " 169.625,\n",
       " 28.34375,\n",
       " 0.0,\n",
       " 42.34375,\n",
       " 69.8125,\n",
       " 41.625,\n",
       " 146.0,\n",
       " 0.56103515625,\n",
       " 0.0,\n",
       " 146.625,\n",
       " 54.03125,\n",
       " 17.90625,\n",
       " 57.71875,\n",
       " 0.0,\n",
       " -10.171875,\n",
       " 174716.59375,\n",
       " 0.0601806640625,\n",
       " -0.058929443359375,\n",
       " 1.615234375,\n",
       " -6.69921875,\n",
       " 13.2890625,\n",
       " -38.59375,\n",
       " 0.09100341796875,\n",
       " -0.301025390625,\n",
       " 99.75,\n",
       " 48.0625,\n",
       " -344.5,\n",
       " 189.5,\n",
       " 14.234375,\n",
       " 353.25,\n",
       " 404.0,\n",
       " 368.25,\n",
       " 16.0,\n",
       " 12.8046875,\n",
       " 329.5,\n",
       " 149.125,\n",
       " 26.515625,\n",
       " 0.0,\n",
       " 0.0,\n",
       " 0.0,\n",
       " 1.0,\n",
       " 0.0,\n",
       " 0.0,\n",
       " 0.0,\n",
       " 1.0,\n",
       " 0.0,\n",
       " 0.0,\n",
       " 0.0,\n",
       " 0.0,\n",
       " 0.0,\n",
       " 0.0,\n",
       " 0.0,\n",
       " 1.0,\n",
       " 0.0,\n",
       " 1.0,\n",
       " 0.0,\n",
       " 1.0,\n",
       " 0.0,\n",
       " 0.0,\n",
       " 0.0,\n",
       " 0.0,\n",
       " 0.0,\n",
       " 0.0,\n",
       " 0.0]"
      ]
     },
     "execution_count": 425,
     "metadata": {},
     "output_type": "execute_result"
    }
   ],
   "source": [
    "list(X_test.iloc[0])"
   ]
  },
  {
   "cell_type": "code",
   "execution_count": 426,
   "metadata": {},
   "outputs": [],
   "source": [
    "runtime_client = boto3.client('sagemaker-runtime')\n",
    "content_type = \"application/json\"\n",
    "request_body = {\"Input\": [list(X_test.iloc[0])]}\n",
    "data = json.loads(json.dumps(request_body))\n",
    "payload = json.dumps(data)\n",
    "endpoint_name = \"rf-classifier\""
   ]
  },
  {
   "cell_type": "code",
   "execution_count": 428,
   "metadata": {},
   "outputs": [
    {
     "data": {
      "text/plain": [
       "'{\"Input\": [[1202215.0, 171.0, 15497.0, 490.0, 150.0, 226.0, 299.0, 87.0, 118.5, 231.875, 0.0, 1.0, 1.0, 0.0, 0.0, 0.0, 1.0, 0.0, 0.0, 0.0, 0.0, 1.0, 0.0, 1.0, 1.0, 0.0, 169.625, 28.34375, 0.0, 42.34375, 69.8125, 41.625, 146.0, 0.56103515625, 0.0, 146.625, 54.03125, 17.90625, 57.71875, 0.0, -10.171875, 174716.59375, 0.0601806640625, -0.058929443359375, 1.615234375, -6.69921875, 13.2890625, -38.59375, 0.09100341796875, -0.301025390625, 99.75, 48.0625, -344.5, 189.5, 14.234375, 353.25, 404.0, 368.25, 16.0, 12.8046875, 329.5, 149.125, 26.515625, 0.0, 0.0, 0.0, 1.0, 0.0, 0.0, 0.0, 1.0, 0.0, 0.0, 0.0, 0.0, 0.0, 0.0, 0.0, 1.0, 0.0, 1.0, 0.0, 1.0, 0.0, 0.0, 0.0, 0.0, 0.0, 0.0, 0.0]]}'"
      ]
     },
     "execution_count": 428,
     "metadata": {},
     "output_type": "execute_result"
    }
   ],
   "source": [
    "payload"
   ]
  },
  {
   "cell_type": "code",
   "execution_count": null,
   "metadata": {},
   "outputs": [],
   "source": [
    "response = runtime_client.invoke_endpoint(\n",
    "    EndpointName=endpoint_name,\n",
    "    ContentType=content_type,\n",
    "    Body=payload)\n",
    "result = json.loads(response['Body'].read().decode())['Output']"
   ]
  }
 ],
 "metadata": {
  "kernelspec": {
   "display_name": "conda_python3",
   "language": "python",
   "name": "conda_python3"
  },
  "language_info": {
   "codemirror_mode": {
    "name": "ipython",
    "version": 3
   },
   "file_extension": ".py",
   "mimetype": "text/x-python",
   "name": "python",
   "nbconvert_exporter": "python",
   "pygments_lexer": "ipython3",
   "version": "3.10.8"
  }
 },
 "nbformat": 4,
 "nbformat_minor": 4
}
